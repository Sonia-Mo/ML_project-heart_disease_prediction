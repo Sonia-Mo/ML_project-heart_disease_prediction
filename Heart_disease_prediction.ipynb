{
 "cells": [
  {
   "cell_type": "markdown",
   "id": "0b7ffa8c",
   "metadata": {},
   "source": [
    "# Heart disease prediction\n",
    "\n",
    "## 1. <u>Introduction</u>:\n",
    "\n",
    "Data set source: https://www.kaggle.com/fedesoriano/heart-failure-prediction\n",
    "\n",
    "**Attribute information:**\n",
    "1. **Age**: Age of the patient [years]\n",
    "2. **Sex**: Sex of the patient [M: Male, F: Female]\n",
    "3. **ChestPainType**: [TA: Typical Angina, ATA: Atypical Angina, NAP: Non-Anginal Pain, ASY: Asymptomatic]\n",
    "4. **RestingBP**: Resting blood pressure [mm Hg]\n",
    "5. **Cholesterol**: Serum cholesterol [mm/dl]\n",
    "6. **FastingBS**: Fasting blood sugar [1: if FastingBS > 120 mg/dl, 0: otherwise]\n",
    "7. **RestingECG**: Resting electrocardiogram results [Normal: Normal, ST: having ST-T wave abnormality (T wave inversions \n",
    "    and/or ST elevation or depression of > 0.05 mV), LVH: showing probable or definite left ventricular hypertrophy by \n",
    "    Estes' criteria]\n",
    "8. **MaxHR**: Maximum heart rate achieved [Numeric value between 60 and 202]\n",
    "9. **ExerciseAngina**: Exercise-induced angina [Y: Yes, N: No]\n",
    "10. **Oldpeak**: ST [Numeric value measured in depression]\n",
    "11. **ST_Slope**: The slope of the peak exercise ST segment [Up: upsloping, Flat: flat, Down: downsloping]\n",
    "12. **HeartDisease**: Output class [1: heart disease, 0: Normal]\n",
    "\n",
    "The data set describes a classification problem in which we have to predict whether a person has an heart disease or not based on the above features.\n",
    "\n",
    "\n",
    "---------------------------------------------------------------------------------------------------------------------"
   ]
  },
  {
   "cell_type": "markdown",
   "id": "3fb1547c",
   "metadata": {},
   "source": [
    "Import relevant libraries and load data:"
   ]
  },
  {
   "cell_type": "code",
   "execution_count": 1,
   "id": "91e19bf1",
   "metadata": {},
   "outputs": [
    {
     "name": "stdout",
     "output_type": "stream",
     "text": [
      "Automatically created module for IPython interactive environment\n"
     ]
    }
   ],
   "source": [
    "import pandas as pd\n",
    "import seaborn as sns\n",
    "import numpy as np\n",
    "import matplotlib.pyplot as plt\n",
    "from scipy import stats\n",
    "from scipy.stats import zscore\n",
    "\n",
    "from sklearn.feature_selection import SequentialFeatureSelector as sfs\n",
    "from sklearn.linear_model import LogisticRegression\n",
    "from sklearn.svm import SVC\n",
    "from sklearn.neighbors import KNeighborsClassifier\n",
    "from sklearn.ensemble import RandomForestClassifier\n",
    "from sklearn.model_selection import train_test_split, GridSearchCV, cross_validate\n",
    "from sklearn.metrics import accuracy_score, classification_report, confusion_matrix, recall_score\n",
    "\n",
    "%run Auxiliary_functions.ipynb"
   ]
  },
  {
   "cell_type": "code",
   "execution_count": 2,
   "id": "17486690",
   "metadata": {},
   "outputs": [],
   "source": [
    "df = pd.read_csv(\"heart.csv\")"
   ]
  },
  {
   "cell_type": "markdown",
   "id": "3a8996a1",
   "metadata": {},
   "source": [
    "### Splitting dataset:\n"
   ]
  },
  {
   "cell_type": "code",
   "execution_count": 3,
   "id": "d07021e1",
   "metadata": {},
   "outputs": [],
   "source": [
    "X = df.drop([\"HeartDisease\"], axis=1)\n",
    "y = df[\"HeartDisease\"]"
   ]
  },
  {
   "cell_type": "code",
   "execution_count": 4,
   "id": "0be46aa5",
   "metadata": {},
   "outputs": [],
   "source": [
    "X_train, X_test, y_train, y_test = train_test_split(X, y, test_size=0.15, random_state=123)"
   ]
  },
  {
   "cell_type": "code",
   "execution_count": 5,
   "id": "f45606fa",
   "metadata": {},
   "outputs": [
    {
     "name": "stdout",
     "output_type": "stream",
     "text": [
      " \u001b[1m The shape of X_train is:\u001b[0m (780, 11) \u001b[1m and y_train is: \u001b[0m (780,)\n",
      " \u001b[1m The shape of X_test is:\u001b[0m (138, 11) \u001b[1mand y_test is:\u001b[0m (138,)\n"
     ]
    }
   ],
   "source": [
    "print(f\" \\033[1m The shape of X_train is:\\033[0m {X_train.shape} \\033[1m and y_train is: \\033[0m {y_train.shape}\")\n",
    "print(f\" \\033[1m The shape of X_test is:\\033[0m {X_test.shape} \\033[1mand y_test is:\\033[0m {y_test.shape}\")"
   ]
  },
  {
   "cell_type": "markdown",
   "id": "43dab87b",
   "metadata": {},
   "source": [
    "The following data set would be used for EDA and data preprocessing:"
   ]
  },
  {
   "cell_type": "code",
   "execution_count": 6,
   "id": "9cb515d6",
   "metadata": {},
   "outputs": [],
   "source": [
    "heart_disease = pd.concat([X_train, pd.DataFrame(y_train)], axis=1)"
   ]
  },
  {
   "cell_type": "markdown",
   "id": "e43f3533",
   "metadata": {},
   "source": [
    "## 2. <u>Exploratory data analysis (EDA)</u>:"
   ]
  },
  {
   "cell_type": "markdown",
   "id": "2c273aab",
   "metadata": {},
   "source": [
    "Preview of 5 first observations:"
   ]
  },
  {
   "cell_type": "code",
   "execution_count": 7,
   "id": "e81b5ed0",
   "metadata": {},
   "outputs": [
    {
     "data": {
      "text/html": [
       "<div>\n",
       "<style scoped>\n",
       "    .dataframe tbody tr th:only-of-type {\n",
       "        vertical-align: middle;\n",
       "    }\n",
       "\n",
       "    .dataframe tbody tr th {\n",
       "        vertical-align: top;\n",
       "    }\n",
       "\n",
       "    .dataframe thead th {\n",
       "        text-align: right;\n",
       "    }\n",
       "</style>\n",
       "<table border=\"1\" class=\"dataframe\">\n",
       "  <thead>\n",
       "    <tr style=\"text-align: right;\">\n",
       "      <th></th>\n",
       "      <th>Age</th>\n",
       "      <th>Sex</th>\n",
       "      <th>ChestPainType</th>\n",
       "      <th>RestingBP</th>\n",
       "      <th>Cholesterol</th>\n",
       "      <th>FastingBS</th>\n",
       "      <th>RestingECG</th>\n",
       "      <th>MaxHR</th>\n",
       "      <th>ExerciseAngina</th>\n",
       "      <th>Oldpeak</th>\n",
       "      <th>ST_Slope</th>\n",
       "      <th>HeartDisease</th>\n",
       "    </tr>\n",
       "  </thead>\n",
       "  <tbody>\n",
       "    <tr>\n",
       "      <th>100</th>\n",
       "      <td>65</td>\n",
       "      <td>M</td>\n",
       "      <td>ASY</td>\n",
       "      <td>130</td>\n",
       "      <td>275</td>\n",
       "      <td>0</td>\n",
       "      <td>ST</td>\n",
       "      <td>115</td>\n",
       "      <td>Y</td>\n",
       "      <td>1.0</td>\n",
       "      <td>Flat</td>\n",
       "      <td>1</td>\n",
       "    </tr>\n",
       "    <tr>\n",
       "      <th>147</th>\n",
       "      <td>43</td>\n",
       "      <td>F</td>\n",
       "      <td>ATA</td>\n",
       "      <td>120</td>\n",
       "      <td>249</td>\n",
       "      <td>0</td>\n",
       "      <td>ST</td>\n",
       "      <td>176</td>\n",
       "      <td>N</td>\n",
       "      <td>0.0</td>\n",
       "      <td>Up</td>\n",
       "      <td>0</td>\n",
       "    </tr>\n",
       "    <tr>\n",
       "      <th>626</th>\n",
       "      <td>53</td>\n",
       "      <td>M</td>\n",
       "      <td>ASY</td>\n",
       "      <td>142</td>\n",
       "      <td>226</td>\n",
       "      <td>0</td>\n",
       "      <td>LVH</td>\n",
       "      <td>111</td>\n",
       "      <td>Y</td>\n",
       "      <td>0.0</td>\n",
       "      <td>Up</td>\n",
       "      <td>0</td>\n",
       "    </tr>\n",
       "    <tr>\n",
       "      <th>161</th>\n",
       "      <td>49</td>\n",
       "      <td>M</td>\n",
       "      <td>ASY</td>\n",
       "      <td>128</td>\n",
       "      <td>212</td>\n",
       "      <td>0</td>\n",
       "      <td>Normal</td>\n",
       "      <td>96</td>\n",
       "      <td>Y</td>\n",
       "      <td>0.0</td>\n",
       "      <td>Flat</td>\n",
       "      <td>1</td>\n",
       "    </tr>\n",
       "    <tr>\n",
       "      <th>227</th>\n",
       "      <td>38</td>\n",
       "      <td>M</td>\n",
       "      <td>ASY</td>\n",
       "      <td>92</td>\n",
       "      <td>117</td>\n",
       "      <td>0</td>\n",
       "      <td>Normal</td>\n",
       "      <td>134</td>\n",
       "      <td>Y</td>\n",
       "      <td>2.5</td>\n",
       "      <td>Flat</td>\n",
       "      <td>1</td>\n",
       "    </tr>\n",
       "  </tbody>\n",
       "</table>\n",
       "</div>"
      ],
      "text/plain": [
       "     Age Sex ChestPainType  RestingBP  Cholesterol  FastingBS RestingECG  \\\n",
       "100   65   M           ASY        130          275          0         ST   \n",
       "147   43   F           ATA        120          249          0         ST   \n",
       "626   53   M           ASY        142          226          0        LVH   \n",
       "161   49   M           ASY        128          212          0     Normal   \n",
       "227   38   M           ASY         92          117          0     Normal   \n",
       "\n",
       "     MaxHR ExerciseAngina  Oldpeak ST_Slope  HeartDisease  \n",
       "100    115              Y      1.0     Flat             1  \n",
       "147    176              N      0.0       Up             0  \n",
       "626    111              Y      0.0       Up             0  \n",
       "161     96              Y      0.0     Flat             1  \n",
       "227    134              Y      2.5     Flat             1  "
      ]
     },
     "execution_count": 7,
     "metadata": {},
     "output_type": "execute_result"
    }
   ],
   "source": [
    "heart_disease.head()"
   ]
  },
  {
   "cell_type": "markdown",
   "id": "5d5f5ce6",
   "metadata": {},
   "source": [
    "Define the type of the features:"
   ]
  },
  {
   "cell_type": "code",
   "execution_count": 8,
   "id": "27d5bb6a",
   "metadata": {},
   "outputs": [],
   "source": [
    "categorical_features = [\"Sex\", \"ChestPainType\", \"FastingBS\", \"RestingECG\", \"ExerciseAngina\", \"ST_Slope\"]\n",
    "continuous_features = [\"Age\", \"RestingBP\", \"Cholesterol\", \"MaxHR\", \"Oldpeak\"]"
   ]
  },
  {
   "cell_type": "markdown",
   "id": "9dfecc9d",
   "metadata": {},
   "source": [
    "Examine the shape of the data set:"
   ]
  },
  {
   "cell_type": "code",
   "execution_count": 9,
   "id": "6d641bb8",
   "metadata": {},
   "outputs": [
    {
     "name": "stdout",
     "output_type": "stream",
     "text": [
      "\u001b[1mThe shape of the data is:\u001b[0m (780, 12)\n",
      "\u001b[1mNumber of samples:\u001b[0m 780\n",
      "\u001b[1mNumber of features:\u001b[0m 11\n"
     ]
    }
   ],
   "source": [
    "shape = heart_disease.shape\n",
    "print(f\"\\033[1mThe shape of the data is:\\033[0m {shape}\")\n",
    "print(f\"\\033[1mNumber of samples:\\033[0m {shape[0]}\")\n",
    "print(f\"\\033[1mNumber of features:\\033[0m {shape[1] - 1}\")"
   ]
  },
  {
   "cell_type": "markdown",
   "id": "65e3dfdb",
   "metadata": {},
   "source": [
    "Find if data contains duplicated rows:"
   ]
  },
  {
   "cell_type": "code",
   "execution_count": 10,
   "id": "9220022f",
   "metadata": {},
   "outputs": [
    {
     "name": "stdout",
     "output_type": "stream",
     "text": [
      "\u001b[1mNumber of duplicated samples is:\u001b[0m 0\n"
     ]
    }
   ],
   "source": [
    "print(f\"\\033[1mNumber of duplicated samples is:\\033[0m {heart_disease.duplicated().sum()}\")"
   ]
  },
  {
   "cell_type": "markdown",
   "id": "47676147",
   "metadata": {},
   "source": [
    "Check for missing values:"
   ]
  },
  {
   "cell_type": "code",
   "execution_count": 11,
   "id": "73a5f9ce",
   "metadata": {},
   "outputs": [
    {
     "data": {
      "text/plain": [
       "Age               0\n",
       "Sex               0\n",
       "ChestPainType     0\n",
       "RestingBP         0\n",
       "Cholesterol       0\n",
       "FastingBS         0\n",
       "RestingECG        0\n",
       "MaxHR             0\n",
       "ExerciseAngina    0\n",
       "Oldpeak           0\n",
       "ST_Slope          0\n",
       "HeartDisease      0\n",
       "dtype: int64"
      ]
     },
     "execution_count": 11,
     "metadata": {},
     "output_type": "execute_result"
    }
   ],
   "source": [
    "heart_disease.isnull().sum()"
   ]
  },
  {
   "cell_type": "markdown",
   "id": "ca80819b",
   "metadata": {},
   "source": [
    "There are no missing values in training data."
   ]
  },
  {
   "cell_type": "markdown",
   "id": "f1f9f272",
   "metadata": {},
   "source": [
    "**Analysis of numerical features:**\n",
    "\n",
    "The distribution of the continuous features is as follows: "
   ]
  },
  {
   "cell_type": "code",
   "execution_count": 12,
   "id": "c14ef46e",
   "metadata": {},
   "outputs": [
    {
     "data": {
      "image/png": "[encoded data removed]",
      "text/plain": [
       "<Figure size 1440x720 with 5 Axes>"
      ]
     },
     "metadata": {
      "needs_background": "light"
     },
     "output_type": "display_data"
    }
   ],
   "source": [
    "plt.figure(figsize = (20, 10))\n",
    "sns.set(font_scale = 2)\n",
    "for i, feature in enumerate(continuous_features):\n",
    "    ax = plt.subplot(2, 3, i+1)\n",
    "    sns.histplot(data = heart_disease[continuous_features], x = feature, color = 'cornflowerblue')\n",
    "plt.tight_layout()"
   ]
  },
  {
   "cell_type": "code",
   "execution_count": 13,
   "id": "f0b86f80",
   "metadata": {},
   "outputs": [
    {
     "data": {
      "image/png": "[encoded data removed]",
      "text/plain": [
       "<Figure size 1440x720 with 5 Axes>"
      ]
     },
     "metadata": {},
     "output_type": "display_data"
    }
   ],
   "source": [
    "plt.figure(figsize = (20, 10))\n",
    "for i, feature in enumerate(continuous_features):\n",
    "    ax = plt.subplot(2, 3, i+1)\n",
    "    sns.boxplot(x = heart_disease[continuous_features][feature], color = 'lightsteelblue')\n",
    "plt.tight_layout()"
   ]
  },
  {
   "cell_type": "markdown",
   "id": "87f631ca",
   "metadata": {},
   "source": [
    "We can see that there are abnormal values in 'Cholesterol' and 'RestingBP', we will check the statistical description of these features to get a better understanding:"
   ]
  },
  {
   "cell_type": "code",
   "execution_count": 14,
   "id": "4f0db9dc",
   "metadata": {},
   "outputs": [
    {
     "data": {
      "text/html": [
       "<div>\n",
       "<style scoped>\n",
       "    .dataframe tbody tr th:only-of-type {\n",
       "        vertical-align: middle;\n",
       "    }\n",
       "\n",
       "    .dataframe tbody tr th {\n",
       "        vertical-align: top;\n",
       "    }\n",
       "\n",
       "    .dataframe thead th {\n",
       "        text-align: right;\n",
       "    }\n",
       "</style>\n",
       "<table border=\"1\" class=\"dataframe\">\n",
       "  <thead>\n",
       "    <tr style=\"text-align: right;\">\n",
       "      <th></th>\n",
       "      <th>Age</th>\n",
       "      <th>RestingBP</th>\n",
       "      <th>Cholesterol</th>\n",
       "      <th>FastingBS</th>\n",
       "      <th>MaxHR</th>\n",
       "      <th>Oldpeak</th>\n",
       "      <th>HeartDisease</th>\n",
       "    </tr>\n",
       "  </thead>\n",
       "  <tbody>\n",
       "    <tr>\n",
       "      <th>count</th>\n",
       "      <td>780.000000</td>\n",
       "      <td>780.000000</td>\n",
       "      <td>780.000000</td>\n",
       "      <td>780.000000</td>\n",
       "      <td>780.000000</td>\n",
       "      <td>780.000000</td>\n",
       "      <td>780.000000</td>\n",
       "    </tr>\n",
       "    <tr>\n",
       "      <th>mean</th>\n",
       "      <td>53.328205</td>\n",
       "      <td>132.239744</td>\n",
       "      <td>196.921795</td>\n",
       "      <td>0.217949</td>\n",
       "      <td>137.419231</td>\n",
       "      <td>0.908846</td>\n",
       "      <td>0.552564</td>\n",
       "    </tr>\n",
       "    <tr>\n",
       "      <th>std</th>\n",
       "      <td>9.481147</td>\n",
       "      <td>18.473037</td>\n",
       "      <td>109.724841</td>\n",
       "      <td>0.413117</td>\n",
       "      <td>25.157984</td>\n",
       "      <td>1.088102</td>\n",
       "      <td>0.497548</td>\n",
       "    </tr>\n",
       "    <tr>\n",
       "      <th>min</th>\n",
       "      <td>28.000000</td>\n",
       "      <td>0.000000</td>\n",
       "      <td>0.000000</td>\n",
       "      <td>0.000000</td>\n",
       "      <td>60.000000</td>\n",
       "      <td>-2.600000</td>\n",
       "      <td>0.000000</td>\n",
       "    </tr>\n",
       "    <tr>\n",
       "      <th>25%</th>\n",
       "      <td>46.000000</td>\n",
       "      <td>120.000000</td>\n",
       "      <td>171.000000</td>\n",
       "      <td>0.000000</td>\n",
       "      <td>120.000000</td>\n",
       "      <td>0.000000</td>\n",
       "      <td>0.000000</td>\n",
       "    </tr>\n",
       "    <tr>\n",
       "      <th>50%</th>\n",
       "      <td>54.000000</td>\n",
       "      <td>130.000000</td>\n",
       "      <td>220.000000</td>\n",
       "      <td>0.000000</td>\n",
       "      <td>139.000000</td>\n",
       "      <td>0.600000</td>\n",
       "      <td>1.000000</td>\n",
       "    </tr>\n",
       "    <tr>\n",
       "      <th>75%</th>\n",
       "      <td>60.000000</td>\n",
       "      <td>140.000000</td>\n",
       "      <td>265.000000</td>\n",
       "      <td>0.000000</td>\n",
       "      <td>157.000000</td>\n",
       "      <td>1.525000</td>\n",
       "      <td>1.000000</td>\n",
       "    </tr>\n",
       "    <tr>\n",
       "      <th>max</th>\n",
       "      <td>77.000000</td>\n",
       "      <td>200.000000</td>\n",
       "      <td>603.000000</td>\n",
       "      <td>1.000000</td>\n",
       "      <td>202.000000</td>\n",
       "      <td>6.200000</td>\n",
       "      <td>1.000000</td>\n",
       "    </tr>\n",
       "  </tbody>\n",
       "</table>\n",
       "</div>"
      ],
      "text/plain": [
       "              Age   RestingBP  Cholesterol   FastingBS       MaxHR  \\\n",
       "count  780.000000  780.000000   780.000000  780.000000  780.000000   \n",
       "mean    53.328205  132.239744   196.921795    0.217949  137.419231   \n",
       "std      9.481147   18.473037   109.724841    0.413117   25.157984   \n",
       "min     28.000000    0.000000     0.000000    0.000000   60.000000   \n",
       "25%     46.000000  120.000000   171.000000    0.000000  120.000000   \n",
       "50%     54.000000  130.000000   220.000000    0.000000  139.000000   \n",
       "75%     60.000000  140.000000   265.000000    0.000000  157.000000   \n",
       "max     77.000000  200.000000   603.000000    1.000000  202.000000   \n",
       "\n",
       "          Oldpeak  HeartDisease  \n",
       "count  780.000000    780.000000  \n",
       "mean     0.908846      0.552564  \n",
       "std      1.088102      0.497548  \n",
       "min     -2.600000      0.000000  \n",
       "25%      0.000000      0.000000  \n",
       "50%      0.600000      1.000000  \n",
       "75%      1.525000      1.000000  \n",
       "max      6.200000      1.000000  "
      ]
     },
     "execution_count": 14,
     "metadata": {},
     "output_type": "execute_result"
    }
   ],
   "source": [
    "heart_disease.describe()"
   ]
  },
  {
   "cell_type": "markdown",
   "id": "f2ad406b",
   "metadata": {},
   "source": [
    "The minimal value of 'Cholesterol' and 'RestingBP' is 0 which is not valid, thus we'll consider it as a missing value. For that purpose we'll replace all zero values in 'Cholesterol' and 'RestingBP' to NaN:"
   ]
  },
  {
   "cell_type": "code",
   "execution_count": 15,
   "id": "3de22a75",
   "metadata": {},
   "outputs": [
    {
     "data": {
      "text/html": [
       "<div>\n",
       "<style scoped>\n",
       "    .dataframe tbody tr th:only-of-type {\n",
       "        vertical-align: middle;\n",
       "    }\n",
       "\n",
       "    .dataframe tbody tr th {\n",
       "        vertical-align: top;\n",
       "    }\n",
       "\n",
       "    .dataframe thead th {\n",
       "        text-align: right;\n",
       "    }\n",
       "</style>\n",
       "<table border=\"1\" class=\"dataframe\">\n",
       "  <thead>\n",
       "    <tr style=\"text-align: right;\">\n",
       "      <th></th>\n",
       "      <th>Age</th>\n",
       "      <th>RestingBP</th>\n",
       "      <th>Cholesterol</th>\n",
       "      <th>FastingBS</th>\n",
       "      <th>MaxHR</th>\n",
       "      <th>Oldpeak</th>\n",
       "      <th>HeartDisease</th>\n",
       "    </tr>\n",
       "  </thead>\n",
       "  <tbody>\n",
       "    <tr>\n",
       "      <th>count</th>\n",
       "      <td>780.000000</td>\n",
       "      <td>779.000000</td>\n",
       "      <td>631.000000</td>\n",
       "      <td>780.000000</td>\n",
       "      <td>780.000000</td>\n",
       "      <td>780.000000</td>\n",
       "      <td>780.000000</td>\n",
       "    </tr>\n",
       "    <tr>\n",
       "      <th>mean</th>\n",
       "      <td>53.328205</td>\n",
       "      <td>132.409499</td>\n",
       "      <td>243.421553</td>\n",
       "      <td>0.217949</td>\n",
       "      <td>137.419231</td>\n",
       "      <td>0.908846</td>\n",
       "      <td>0.552564</td>\n",
       "    </tr>\n",
       "    <tr>\n",
       "      <th>std</th>\n",
       "      <td>9.481147</td>\n",
       "      <td>17.865765</td>\n",
       "      <td>59.581688</td>\n",
       "      <td>0.413117</td>\n",
       "      <td>25.157984</td>\n",
       "      <td>1.088102</td>\n",
       "      <td>0.497548</td>\n",
       "    </tr>\n",
       "    <tr>\n",
       "      <th>min</th>\n",
       "      <td>28.000000</td>\n",
       "      <td>80.000000</td>\n",
       "      <td>85.000000</td>\n",
       "      <td>0.000000</td>\n",
       "      <td>60.000000</td>\n",
       "      <td>-2.600000</td>\n",
       "      <td>0.000000</td>\n",
       "    </tr>\n",
       "    <tr>\n",
       "      <th>25%</th>\n",
       "      <td>46.000000</td>\n",
       "      <td>120.000000</td>\n",
       "      <td>206.500000</td>\n",
       "      <td>0.000000</td>\n",
       "      <td>120.000000</td>\n",
       "      <td>0.000000</td>\n",
       "      <td>0.000000</td>\n",
       "    </tr>\n",
       "    <tr>\n",
       "      <th>50%</th>\n",
       "      <td>54.000000</td>\n",
       "      <td>130.000000</td>\n",
       "      <td>236.000000</td>\n",
       "      <td>0.000000</td>\n",
       "      <td>139.000000</td>\n",
       "      <td>0.600000</td>\n",
       "      <td>1.000000</td>\n",
       "    </tr>\n",
       "    <tr>\n",
       "      <th>75%</th>\n",
       "      <td>60.000000</td>\n",
       "      <td>140.000000</td>\n",
       "      <td>274.000000</td>\n",
       "      <td>0.000000</td>\n",
       "      <td>157.000000</td>\n",
       "      <td>1.525000</td>\n",
       "      <td>1.000000</td>\n",
       "    </tr>\n",
       "    <tr>\n",
       "      <th>max</th>\n",
       "      <td>77.000000</td>\n",
       "      <td>200.000000</td>\n",
       "      <td>603.000000</td>\n",
       "      <td>1.000000</td>\n",
       "      <td>202.000000</td>\n",
       "      <td>6.200000</td>\n",
       "      <td>1.000000</td>\n",
       "    </tr>\n",
       "  </tbody>\n",
       "</table>\n",
       "</div>"
      ],
      "text/plain": [
       "              Age   RestingBP  Cholesterol   FastingBS       MaxHR  \\\n",
       "count  780.000000  779.000000   631.000000  780.000000  780.000000   \n",
       "mean    53.328205  132.409499   243.421553    0.217949  137.419231   \n",
       "std      9.481147   17.865765    59.581688    0.413117   25.157984   \n",
       "min     28.000000   80.000000    85.000000    0.000000   60.000000   \n",
       "25%     46.000000  120.000000   206.500000    0.000000  120.000000   \n",
       "50%     54.000000  130.000000   236.000000    0.000000  139.000000   \n",
       "75%     60.000000  140.000000   274.000000    0.000000  157.000000   \n",
       "max     77.000000  200.000000   603.000000    1.000000  202.000000   \n",
       "\n",
       "          Oldpeak  HeartDisease  \n",
       "count  780.000000    780.000000  \n",
       "mean     0.908846      0.552564  \n",
       "std      1.088102      0.497548  \n",
       "min     -2.600000      0.000000  \n",
       "25%      0.000000      0.000000  \n",
       "50%      0.600000      1.000000  \n",
       "75%      1.525000      1.000000  \n",
       "max      6.200000      1.000000  "
      ]
     },
     "execution_count": 15,
     "metadata": {},
     "output_type": "execute_result"
    }
   ],
   "source": [
    "cols = [\"RestingBP\", \"Cholesterol\"]\n",
    "heart_disease[cols] = heart_disease[cols].replace({0:np.nan})\n",
    "heart_disease.describe()"
   ]
  },
  {
   "cell_type": "markdown",
   "id": "ff108d18",
   "metadata": {},
   "source": [
    "Now we are able to see that the values for 'Cholesterol' and 'RestingBP' are at normal range.\n",
    "In addition we can see that we now have missing values in our data set:"
   ]
  },
  {
   "cell_type": "code",
   "execution_count": 16,
   "id": "3ad0c7d4",
   "metadata": {},
   "outputs": [
    {
     "data": {
      "text/plain": [
       "Age                 0\n",
       "Sex                 0\n",
       "ChestPainType       0\n",
       "RestingBP           1\n",
       "Cholesterol       149\n",
       "FastingBS           0\n",
       "RestingECG          0\n",
       "MaxHR               0\n",
       "ExerciseAngina      0\n",
       "Oldpeak             0\n",
       "ST_Slope            0\n",
       "HeartDisease        0\n",
       "dtype: int64"
      ]
     },
     "execution_count": 16,
     "metadata": {},
     "output_type": "execute_result"
    }
   ],
   "source": [
    "heart_disease.isnull().sum()"
   ]
  },
  {
   "cell_type": "markdown",
   "id": "175a42dc",
   "metadata": {},
   "source": [
    "We will choose how to treat these missing values at the preprocess step."
   ]
  },
  {
   "cell_type": "markdown",
   "id": "de0e297a",
   "metadata": {},
   "source": [
    "**Analysis of categorical features:**\n"
   ]
  },
  {
   "cell_type": "code",
   "execution_count": 17,
   "id": "aa4e0f8a",
   "metadata": {},
   "outputs": [
    {
     "data": {
      "image/png": "[encoded data removed]",
      "text/plain": [
       "<Figure size 1440x720 with 6 Axes>"
      ]
     },
     "metadata": {},
     "output_type": "display_data"
    }
   ],
   "source": [
    "plt.figure(figsize = (20, 10))\n",
    "for i, feature in enumerate(categorical_features):\n",
    "    ax = plt.subplot(2, 3, i+1)\n",
    "    sns.countplot(data=heart_disease, x = feature, palette='Blues_r')\n",
    "plt.tight_layout()"
   ]
  },
  {
   "cell_type": "markdown",
   "id": "8dcd5d9f",
   "metadata": {},
   "source": [
    "### Checking target imbalance:"
   ]
  },
  {
   "cell_type": "markdown",
   "id": "9be5b9bf",
   "metadata": {},
   "source": [
    "The percentage of each of the possible outputs is:"
   ]
  },
  {
   "cell_type": "code",
   "execution_count": 18,
   "id": "f5f29933",
   "metadata": {},
   "outputs": [
    {
     "data": {
      "text/plain": [
       "1    55.25641\n",
       "0    44.74359\n",
       "Name: HeartDisease, dtype: float64"
      ]
     },
     "execution_count": 18,
     "metadata": {},
     "output_type": "execute_result"
    }
   ],
   "source": [
    "heart_disease['HeartDisease'].value_counts(normalize=True) * 100"
   ]
  },
  {
   "cell_type": "code",
   "execution_count": 19,
   "id": "4fc69871",
   "metadata": {},
   "outputs": [
    {
     "data": {
      "image/png": "[encoded data removed]",
      "text/plain": [
       "<Figure size 432x288 with 1 Axes>"
      ]
     },
     "metadata": {},
     "output_type": "display_data"
    }
   ],
   "source": [
    "colors = sns.color_palette('light:b')\n",
    "plt.pie(heart_disease['HeartDisease'].value_counts(), labels=['1', '0'], colors=colors, autopct='%1.1f%%',startangle=90, textprops={'fontsize':16}, shadow=True)\n",
    "plt.show()"
   ]
  },
  {
   "cell_type": "markdown",
   "id": "7cc9d190",
   "metadata": {},
   "source": [
    "We can see that the data is balanced, which means that we can use 'accuracy' as our evaluation metric."
   ]
  },
  {
   "cell_type": "markdown",
   "id": "bab9fd61",
   "metadata": {},
   "source": [
    "###  <font color='red'>TODO: maybe add somthing about that we prefer that our recall would be higher?</font>"
   ]
  },
  {
   "cell_type": "markdown",
   "id": "b962a02f",
   "metadata": {},
   "source": [
    "## 3. <u>Data preprocess</u>:"
   ]
  },
  {
   "cell_type": "markdown",
   "id": "480508e2",
   "metadata": {},
   "source": [
    "### Encoding Categorical Values:"
   ]
  },
  {
   "cell_type": "code",
   "execution_count": 20,
   "id": "24ec7567",
   "metadata": {},
   "outputs": [
    {
     "data": {
      "text/plain": [
       "Age                 int64\n",
       "Sex                object\n",
       "ChestPainType      object\n",
       "RestingBP         float64\n",
       "Cholesterol       float64\n",
       "FastingBS           int64\n",
       "RestingECG         object\n",
       "MaxHR               int64\n",
       "ExerciseAngina     object\n",
       "Oldpeak           float64\n",
       "ST_Slope           object\n",
       "HeartDisease        int64\n",
       "dtype: object"
      ]
     },
     "execution_count": 20,
     "metadata": {},
     "output_type": "execute_result"
    }
   ],
   "source": [
    "heart_disease.dtypes"
   ]
  },
  {
   "cell_type": "markdown",
   "id": "4e1ae14f",
   "metadata": {},
   "source": [
    "Check if all categorical features are assignd with values that they supposed to get."
   ]
  },
  {
   "cell_type": "code",
   "execution_count": 21,
   "id": "f084e4c4",
   "metadata": {},
   "outputs": [
    {
     "name": "stdout",
     "output_type": "stream",
     "text": [
      "\n",
      "\u001b[1mThe distribution of categorical valeus in 'Sex' feature is:\u001b[0m\n",
      "M    618\n",
      "F    162\n",
      "Name: Sex, dtype: int64\n",
      "\n",
      "\u001b[1mThe distribution of categorical valeus in 'ChestPainType' feature is:\u001b[0m\n",
      "ASY    422\n",
      "NAP    174\n",
      "ATA    144\n",
      "TA      40\n",
      "Name: ChestPainType, dtype: int64\n",
      "\n",
      "\u001b[1mThe distribution of categorical valeus in 'FastingBS' feature is:\u001b[0m\n",
      "0    610\n",
      "1    170\n",
      "Name: FastingBS, dtype: int64\n",
      "\n",
      "\u001b[1mThe distribution of categorical valeus in 'RestingECG' feature is:\u001b[0m\n",
      "Normal    472\n",
      "LVH       161\n",
      "ST        147\n",
      "Name: RestingECG, dtype: int64\n",
      "\n",
      "\u001b[1mThe distribution of categorical valeus in 'ExerciseAngina' feature is:\u001b[0m\n",
      "N    470\n",
      "Y    310\n",
      "Name: ExerciseAngina, dtype: int64\n",
      "\n",
      "\u001b[1mThe distribution of categorical valeus in 'ST_Slope' feature is:\u001b[0m\n",
      "Flat    386\n",
      "Up      341\n",
      "Down     53\n",
      "Name: ST_Slope, dtype: int64\n"
     ]
    }
   ],
   "source": [
    "for col in categorical_features:\n",
    "    print(f\"\\n\\033[1mThe distribution of categorical valeus in '{col}' feature is:\\033[0m\")\n",
    "    print(heart_disease[col].value_counts())"
   ]
  },
  {
   "cell_type": "markdown",
   "id": "86ee40d4",
   "metadata": {},
   "source": [
    "Use label encoding on 'Sex', 'ExerciseAngina' and 'ST_Slope':"
   ]
  },
  {
   "cell_type": "code",
   "execution_count": 22,
   "id": "3eccc393",
   "metadata": {},
   "outputs": [],
   "source": [
    "cat_to_num = {\n",
    "            \"Sex\": {\"M\": 0, \"F\": 1},\n",
    "            \"ExerciseAngina\": {\"N\": 0, \"Y\": 1},\n",
    "#             \"ChestPainType\": {\"ASY\": 0, \"TA\": 1, \"ATA\": 2, \"NAP\": 3},\n",
    "            }\n",
    "\n",
    "heart_disease = heart_disease.replace(cat_to_num)"
   ]
  },
  {
   "cell_type": "markdown",
   "id": "a6c62283",
   "metadata": {},
   "source": [
    "Perform one hot encoding to 'ChestPainType', 'RestingECG' and 'ST_Slope':"
   ]
  },
  {
   "cell_type": "code",
   "execution_count": 23,
   "id": "6444b79d",
   "metadata": {},
   "outputs": [
    {
     "data": {
      "text/html": [
       "<div>\n",
       "<style scoped>\n",
       "    .dataframe tbody tr th:only-of-type {\n",
       "        vertical-align: middle;\n",
       "    }\n",
       "\n",
       "    .dataframe tbody tr th {\n",
       "        vertical-align: top;\n",
       "    }\n",
       "\n",
       "    .dataframe thead th {\n",
       "        text-align: right;\n",
       "    }\n",
       "</style>\n",
       "<table border=\"1\" class=\"dataframe\">\n",
       "  <thead>\n",
       "    <tr style=\"text-align: right;\">\n",
       "      <th></th>\n",
       "      <th>Age</th>\n",
       "      <th>Sex</th>\n",
       "      <th>RestingBP</th>\n",
       "      <th>Cholesterol</th>\n",
       "      <th>FastingBS</th>\n",
       "      <th>MaxHR</th>\n",
       "      <th>ExerciseAngina</th>\n",
       "      <th>Oldpeak</th>\n",
       "      <th>HeartDisease</th>\n",
       "      <th>CPT_ASY</th>\n",
       "      <th>CPT_ATA</th>\n",
       "      <th>CPT_NAP</th>\n",
       "      <th>CPT_TA</th>\n",
       "      <th>R_ECG_LVH</th>\n",
       "      <th>R_ECG_Normal</th>\n",
       "      <th>R_ECG_ST</th>\n",
       "      <th>ST_Slope_Down</th>\n",
       "      <th>ST_Slope_Flat</th>\n",
       "      <th>ST_Slope_Up</th>\n",
       "    </tr>\n",
       "  </thead>\n",
       "  <tbody>\n",
       "    <tr>\n",
       "      <th>100</th>\n",
       "      <td>65</td>\n",
       "      <td>0</td>\n",
       "      <td>130.0</td>\n",
       "      <td>275.0</td>\n",
       "      <td>0</td>\n",
       "      <td>115</td>\n",
       "      <td>1</td>\n",
       "      <td>1.0</td>\n",
       "      <td>1</td>\n",
       "      <td>1</td>\n",
       "      <td>0</td>\n",
       "      <td>0</td>\n",
       "      <td>0</td>\n",
       "      <td>0</td>\n",
       "      <td>0</td>\n",
       "      <td>1</td>\n",
       "      <td>0</td>\n",
       "      <td>1</td>\n",
       "      <td>0</td>\n",
       "    </tr>\n",
       "    <tr>\n",
       "      <th>147</th>\n",
       "      <td>43</td>\n",
       "      <td>1</td>\n",
       "      <td>120.0</td>\n",
       "      <td>249.0</td>\n",
       "      <td>0</td>\n",
       "      <td>176</td>\n",
       "      <td>0</td>\n",
       "      <td>0.0</td>\n",
       "      <td>0</td>\n",
       "      <td>0</td>\n",
       "      <td>1</td>\n",
       "      <td>0</td>\n",
       "      <td>0</td>\n",
       "      <td>0</td>\n",
       "      <td>0</td>\n",
       "      <td>1</td>\n",
       "      <td>0</td>\n",
       "      <td>0</td>\n",
       "      <td>1</td>\n",
       "    </tr>\n",
       "    <tr>\n",
       "      <th>626</th>\n",
       "      <td>53</td>\n",
       "      <td>0</td>\n",
       "      <td>142.0</td>\n",
       "      <td>226.0</td>\n",
       "      <td>0</td>\n",
       "      <td>111</td>\n",
       "      <td>1</td>\n",
       "      <td>0.0</td>\n",
       "      <td>0</td>\n",
       "      <td>1</td>\n",
       "      <td>0</td>\n",
       "      <td>0</td>\n",
       "      <td>0</td>\n",
       "      <td>1</td>\n",
       "      <td>0</td>\n",
       "      <td>0</td>\n",
       "      <td>0</td>\n",
       "      <td>0</td>\n",
       "      <td>1</td>\n",
       "    </tr>\n",
       "    <tr>\n",
       "      <th>161</th>\n",
       "      <td>49</td>\n",
       "      <td>0</td>\n",
       "      <td>128.0</td>\n",
       "      <td>212.0</td>\n",
       "      <td>0</td>\n",
       "      <td>96</td>\n",
       "      <td>1</td>\n",
       "      <td>0.0</td>\n",
       "      <td>1</td>\n",
       "      <td>1</td>\n",
       "      <td>0</td>\n",
       "      <td>0</td>\n",
       "      <td>0</td>\n",
       "      <td>0</td>\n",
       "      <td>1</td>\n",
       "      <td>0</td>\n",
       "      <td>0</td>\n",
       "      <td>1</td>\n",
       "      <td>0</td>\n",
       "    </tr>\n",
       "    <tr>\n",
       "      <th>227</th>\n",
       "      <td>38</td>\n",
       "      <td>0</td>\n",
       "      <td>92.0</td>\n",
       "      <td>117.0</td>\n",
       "      <td>0</td>\n",
       "      <td>134</td>\n",
       "      <td>1</td>\n",
       "      <td>2.5</td>\n",
       "      <td>1</td>\n",
       "      <td>1</td>\n",
       "      <td>0</td>\n",
       "      <td>0</td>\n",
       "      <td>0</td>\n",
       "      <td>0</td>\n",
       "      <td>1</td>\n",
       "      <td>0</td>\n",
       "      <td>0</td>\n",
       "      <td>1</td>\n",
       "      <td>0</td>\n",
       "    </tr>\n",
       "  </tbody>\n",
       "</table>\n",
       "</div>"
      ],
      "text/plain": [
       "     Age  Sex  RestingBP  Cholesterol  FastingBS  MaxHR  ExerciseAngina  \\\n",
       "100   65    0      130.0        275.0          0    115               1   \n",
       "147   43    1      120.0        249.0          0    176               0   \n",
       "626   53    0      142.0        226.0          0    111               1   \n",
       "161   49    0      128.0        212.0          0     96               1   \n",
       "227   38    0       92.0        117.0          0    134               1   \n",
       "\n",
       "     Oldpeak  HeartDisease  CPT_ASY  CPT_ATA  CPT_NAP  CPT_TA  R_ECG_LVH  \\\n",
       "100      1.0             1        1        0        0       0          0   \n",
       "147      0.0             0        0        1        0       0          0   \n",
       "626      0.0             0        1        0        0       0          1   \n",
       "161      0.0             1        1        0        0       0          0   \n",
       "227      2.5             1        1        0        0       0          0   \n",
       "\n",
       "     R_ECG_Normal  R_ECG_ST  ST_Slope_Down  ST_Slope_Flat  ST_Slope_Up  \n",
       "100             0         1              0              1            0  \n",
       "147             0         1              0              0            1  \n",
       "626             0         0              0              0            1  \n",
       "161             1         0              0              1            0  \n",
       "227             1         0              0              1            0  "
      ]
     },
     "execution_count": 23,
     "metadata": {},
     "output_type": "execute_result"
    }
   ],
   "source": [
    "# heart_disease = pd.get_dummies(heart_disease, columns=[\"RestingECG\", \"ST_Slope\"], prefix=[\"R_ECG\", \"ST_Slope\"])\n",
    "heart_disease = pd.get_dummies(heart_disease, columns=[\"ChestPainType\", \"RestingECG\", \"ST_Slope\"], prefix=[\"CPT\", \"R_ECG\", \"ST_Slope\"])\n",
    "# heart_disease = pd.get_dummies(heart_disease, columns=[\"ChestPainType\", \"RestingECG\"], prefix=[\"CPT\", \"R_ECG\"])\n",
    "\n",
    "heart_disease.head()"
   ]
  },
  {
   "cell_type": "markdown",
   "id": "b92603a4",
   "metadata": {},
   "source": [
    "We can see now that we no longer have non-numeric data types in our data set:"
   ]
  },
  {
   "cell_type": "code",
   "execution_count": 24,
   "id": "a829980b",
   "metadata": {},
   "outputs": [
    {
     "data": {
      "text/plain": [
       "Age                 int64\n",
       "Sex                 int64\n",
       "RestingBP         float64\n",
       "Cholesterol       float64\n",
       "FastingBS           int64\n",
       "MaxHR               int64\n",
       "ExerciseAngina      int64\n",
       "Oldpeak           float64\n",
       "HeartDisease        int64\n",
       "CPT_ASY             uint8\n",
       "CPT_ATA             uint8\n",
       "CPT_NAP             uint8\n",
       "CPT_TA              uint8\n",
       "R_ECG_LVH           uint8\n",
       "R_ECG_Normal        uint8\n",
       "R_ECG_ST            uint8\n",
       "ST_Slope_Down       uint8\n",
       "ST_Slope_Flat       uint8\n",
       "ST_Slope_Up         uint8\n",
       "dtype: object"
      ]
     },
     "execution_count": 24,
     "metadata": {},
     "output_type": "execute_result"
    }
   ],
   "source": [
    "heart_disease.dtypes"
   ]
  },
  {
   "cell_type": "markdown",
   "id": "83c72ce6",
   "metadata": {},
   "source": [
    "### Missing values:\n",
    "\n",
    "In order to decide how to treat the missing values in our data, we will run logistic regression on two options:\n",
    "1. Data with imputation of missing values\n",
    "2. Data with dropped missing values\n",
    "\n",
    "After that we'll choose the option that gives the lower cross validation score."
   ]
  },
  {
   "cell_type": "code",
   "execution_count": 25,
   "id": "bd8544b1",
   "metadata": {},
   "outputs": [
    {
     "data": {
      "text/plain": [
       "Age                 0\n",
       "Sex                 0\n",
       "RestingBP           1\n",
       "Cholesterol       149\n",
       "FastingBS           0\n",
       "MaxHR               0\n",
       "ExerciseAngina      0\n",
       "Oldpeak             0\n",
       "HeartDisease        0\n",
       "CPT_ASY             0\n",
       "CPT_ATA             0\n",
       "CPT_NAP             0\n",
       "CPT_TA              0\n",
       "R_ECG_LVH           0\n",
       "R_ECG_Normal        0\n",
       "R_ECG_ST            0\n",
       "ST_Slope_Down       0\n",
       "ST_Slope_Flat       0\n",
       "ST_Slope_Up         0\n",
       "dtype: int64"
      ]
     },
     "execution_count": 25,
     "metadata": {},
     "output_type": "execute_result"
    }
   ],
   "source": [
    "heart_disease.isnull().sum()"
   ]
  },
  {
   "cell_type": "markdown",
   "id": "9d4af9d2",
   "metadata": {},
   "source": [
    "To treat the only missing value of 'RestingBP', we are going to replace it with the mean of 'RestingBP':"
   ]
  },
  {
   "cell_type": "code",
   "execution_count": 26,
   "id": "8f2c5438",
   "metadata": {},
   "outputs": [],
   "source": [
    "RestingBP_mean = heart_disease['RestingBP'].mean()\n",
    "heart_disease['RestingBP'] = heart_disease['RestingBP'].fillna(RestingBP_mean)"
   ]
  },
  {
   "cell_type": "code",
   "execution_count": 27,
   "id": "ecc2c27a",
   "metadata": {},
   "outputs": [
    {
     "data": {
      "text/plain": [
       "(631, 19)"
      ]
     },
     "execution_count": 27,
     "metadata": {},
     "output_type": "execute_result"
    }
   ],
   "source": [
    "heart_disease_samples_dropped = heart_disease.dropna()\n",
    "heart_disease_samples_dropped.shape"
   ]
  },
  {
   "cell_type": "code",
   "execution_count": 28,
   "id": "0473f69d",
   "metadata": {},
   "outputs": [
    {
     "data": {
      "text/plain": [
       "(780, 18)"
      ]
     },
     "execution_count": 28,
     "metadata": {},
     "output_type": "execute_result"
    }
   ],
   "source": [
    "heart_disease_feature_dropped = heart_disease.dropna(axis=1)\n",
    "heart_disease_feature_dropped.shape"
   ]
  },
  {
   "cell_type": "markdown",
   "id": "53ebad0a",
   "metadata": {},
   "source": [
    "We'll now examine the distribution of 'Cholesterol' feature to decide whether to replace it with the mean or the median value:"
   ]
  },
  {
   "cell_type": "code",
   "execution_count": 29,
   "id": "74d5acff",
   "metadata": {},
   "outputs": [
    {
     "data": {
      "text/plain": [
       "<seaborn.axisgrid.FacetGrid at 0x18c9a7e36d0>"
      ]
     },
     "execution_count": 29,
     "metadata": {},
     "output_type": "execute_result"
    },
    {
     "data": {
      "image/png": "[encoded data removed]",
      "text/plain": [
       "<Figure size 360x360 with 1 Axes>"
      ]
     },
     "metadata": {},
     "output_type": "display_data"
    }
   ],
   "source": [
    "sns.displot(heart_disease.Cholesterol, kde= True)"
   ]
  },
  {
   "cell_type": "markdown",
   "id": "bef6a6a0",
   "metadata": {},
   "source": [
    "We can see that the data is skewed and may contain outliers. Outliers data points will have a significant impact on the mean and hence, in such cases, it is not recommended to use the mean for replacing the missing values.When the data is skewed, it is good to consider using the median value for replacing the missing values."
   ]
  },
  {
   "cell_type": "code",
   "execution_count": 30,
   "id": "18cc5fe0",
   "metadata": {},
   "outputs": [],
   "source": [
    "cholesterol_median = heart_disease['Cholesterol'].median()\n",
    "\n",
    "heart_disease_median_imputation = heart_disease.copy(deep=True) # Make a copy of the Dataframe\n",
    "heart_disease_median_imputation['Cholesterol'] = heart_disease_median_imputation['Cholesterol'].fillna(cholesterol_median)"
   ]
  },
  {
   "cell_type": "code",
   "execution_count": 31,
   "id": "d4b1e2d5",
   "metadata": {},
   "outputs": [
    {
     "data": {
      "text/plain": [
       "Age               0\n",
       "Sex               0\n",
       "RestingBP         0\n",
       "Cholesterol       0\n",
       "FastingBS         0\n",
       "MaxHR             0\n",
       "ExerciseAngina    0\n",
       "Oldpeak           0\n",
       "HeartDisease      0\n",
       "CPT_ASY           0\n",
       "CPT_ATA           0\n",
       "CPT_NAP           0\n",
       "CPT_TA            0\n",
       "R_ECG_LVH         0\n",
       "R_ECG_Normal      0\n",
       "R_ECG_ST          0\n",
       "ST_Slope_Down     0\n",
       "ST_Slope_Flat     0\n",
       "ST_Slope_Up       0\n",
       "dtype: int64"
      ]
     },
     "execution_count": 31,
     "metadata": {},
     "output_type": "execute_result"
    }
   ],
   "source": [
    "heart_disease_median_imputation.isnull().sum()"
   ]
  },
  {
   "cell_type": "code",
   "execution_count": 32,
   "id": "946c213c",
   "metadata": {},
   "outputs": [],
   "source": [
    "X_knn_col = heart_disease.columns\n",
    "\n",
    "from sklearn.impute import KNNImputer\n",
    "knn_imputer = KNNImputer(n_neighbors=1)\n",
    "knn_imputation = knn_imputer.fit_transform(heart_disease)\n",
    "\n",
    "knn_imputation = pd.DataFrame(knn_imputation, columns=X_knn_col)\n",
    "X_knn_imputation = knn_imputation.drop([\"HeartDisease\"], axis=1)\n",
    "y_knn_imputation = knn_imputation[\"HeartDisease\"]"
   ]
  },
  {
   "cell_type": "markdown",
   "id": "d0f69c8c",
   "metadata": {},
   "source": [
    "**compare performance:**"
   ]
  },
  {
   "cell_type": "code",
   "execution_count": 33,
   "id": "2ea694a8",
   "metadata": {},
   "outputs": [],
   "source": [
    "X_samples_dropped = heart_disease_samples_dropped.drop([\"HeartDisease\"], axis=1)\n",
    "y_samples_dropped = heart_disease_samples_dropped[\"HeartDisease\"]\n",
    "\n",
    "X_feature_dropped = heart_disease_feature_dropped.drop([\"HeartDisease\"], axis=1)\n",
    "y_feature_dropped = heart_disease_feature_dropped[\"HeartDisease\"]\n",
    "\n",
    "X_median_imputation = heart_disease_median_imputation.drop([\"HeartDisease\"], axis=1)\n",
    "y_median_imputation = heart_disease_median_imputation[\"HeartDisease\"]"
   ]
  },
  {
   "cell_type": "code",
   "execution_count": 34,
   "id": "02e9e5d8",
   "metadata": {},
   "outputs": [
    {
     "data": {
      "text/html": [
       "<div>\n",
       "<style scoped>\n",
       "    .dataframe tbody tr th:only-of-type {\n",
       "        vertical-align: middle;\n",
       "    }\n",
       "\n",
       "    .dataframe tbody tr th {\n",
       "        vertical-align: top;\n",
       "    }\n",
       "\n",
       "    .dataframe thead th {\n",
       "        text-align: right;\n",
       "    }\n",
       "</style>\n",
       "<table border=\"1\" class=\"dataframe\">\n",
       "  <thead>\n",
       "    <tr style=\"text-align: right;\">\n",
       "      <th></th>\n",
       "      <th>train_score</th>\n",
       "      <th>cv_score</th>\n",
       "    </tr>\n",
       "  </thead>\n",
       "  <tbody>\n",
       "    <tr>\n",
       "      <th>X_samples_dropped</th>\n",
       "      <td>0.879947</td>\n",
       "      <td>0.869991</td>\n",
       "    </tr>\n",
       "    <tr>\n",
       "      <th>X_feature_dropped</th>\n",
       "      <td>0.867308</td>\n",
       "      <td>0.856410</td>\n",
       "    </tr>\n",
       "    <tr>\n",
       "      <th>X_median_imputation</th>\n",
       "      <td>0.870833</td>\n",
       "      <td>0.860256</td>\n",
       "    </tr>\n",
       "    <tr>\n",
       "      <th>X_knn_imputation</th>\n",
       "      <td>0.870513</td>\n",
       "      <td>0.862821</td>\n",
       "    </tr>\n",
       "  </tbody>\n",
       "</table>\n",
       "</div>"
      ],
      "text/plain": [
       "                     train_score  cv_score\n",
       "X_samples_dropped       0.879947  0.869991\n",
       "X_feature_dropped       0.867308  0.856410\n",
       "X_median_imputation     0.870833  0.860256\n",
       "X_knn_imputation        0.870513  0.862821"
      ]
     },
     "execution_count": 34,
     "metadata": {},
     "output_type": "execute_result"
    }
   ],
   "source": [
    "# Prepare arguments for 'compare' function\n",
    "X_datasets = [X_samples_dropped, X_feature_dropped, X_median_imputation, X_knn_imputation]\n",
    "datasets_str = ['X_samples_dropped', 'X_feature_dropped', 'X_median_imputation', 'X_knn_imputation']\n",
    "y_datasets = [y_samples_dropped, y_feature_dropped, y_median_imputation, y_knn_imputation]\n",
    "\n",
    "# Function described in 'Auxiliary_functions' file\n",
    "compare(X_datasets, datasets_str, y_datasets)"
   ]
  },
  {
   "cell_type": "markdown",
   "id": "7b5f40a6",
   "metadata": {},
   "source": [
    "###  <font color='red'>TODO: explain and change partition to x_train and y_train accordingly</font>\n"
   ]
  },
  {
   "cell_type": "code",
   "execution_count": 35,
   "id": "fbe3dfe2",
   "metadata": {},
   "outputs": [],
   "source": [
    "heart_disease = knn_imputation\n",
    "# heart_disease = heart_disease_feature_dropped\n",
    "# continuous_features.remove('Cholesterol')"
   ]
  },
  {
   "cell_type": "markdown",
   "id": "2e92a9e5",
   "metadata": {},
   "source": [
    "### Feature engineering:"
   ]
  },
  {
   "cell_type": "code",
   "execution_count": 36,
   "id": "98e5e140",
   "metadata": {},
   "outputs": [
    {
     "data": {
      "text/html": [
       "<div>\n",
       "<style scoped>\n",
       "    .dataframe tbody tr th:only-of-type {\n",
       "        vertical-align: middle;\n",
       "    }\n",
       "\n",
       "    .dataframe tbody tr th {\n",
       "        vertical-align: top;\n",
       "    }\n",
       "\n",
       "    .dataframe thead th {\n",
       "        text-align: right;\n",
       "    }\n",
       "</style>\n",
       "<table border=\"1\" class=\"dataframe\">\n",
       "  <thead>\n",
       "    <tr style=\"text-align: right;\">\n",
       "      <th></th>\n",
       "      <th>Age</th>\n",
       "      <th>Sex</th>\n",
       "      <th>RestingBP</th>\n",
       "      <th>Cholesterol</th>\n",
       "      <th>FastingBS</th>\n",
       "      <th>MaxHR</th>\n",
       "      <th>ExerciseAngina</th>\n",
       "      <th>Oldpeak</th>\n",
       "      <th>HeartDisease</th>\n",
       "      <th>CPT_ASY</th>\n",
       "      <th>CPT_ATA</th>\n",
       "      <th>CPT_NAP</th>\n",
       "      <th>CPT_TA</th>\n",
       "      <th>R_ECG_LVH</th>\n",
       "      <th>R_ECG_Normal</th>\n",
       "      <th>R_ECG_ST</th>\n",
       "      <th>ST_Slope_Down</th>\n",
       "      <th>ST_Slope_Flat</th>\n",
       "      <th>ST_Slope_Up</th>\n",
       "      <th>MaxHR_precent</th>\n",
       "    </tr>\n",
       "  </thead>\n",
       "  <tbody>\n",
       "    <tr>\n",
       "      <th>count</th>\n",
       "      <td>780.000000</td>\n",
       "      <td>780.000000</td>\n",
       "      <td>780.000000</td>\n",
       "      <td>780.000000</td>\n",
       "      <td>780.000000</td>\n",
       "      <td>780.000000</td>\n",
       "      <td>780.000000</td>\n",
       "      <td>780.000000</td>\n",
       "      <td>780.000000</td>\n",
       "      <td>780.000000</td>\n",
       "      <td>780.000000</td>\n",
       "      <td>780.000000</td>\n",
       "      <td>780.000000</td>\n",
       "      <td>780.000000</td>\n",
       "      <td>780.000000</td>\n",
       "      <td>780.000000</td>\n",
       "      <td>780.000000</td>\n",
       "      <td>780.000000</td>\n",
       "      <td>780.000000</td>\n",
       "      <td>780.000000</td>\n",
       "    </tr>\n",
       "    <tr>\n",
       "      <th>mean</th>\n",
       "      <td>53.328205</td>\n",
       "      <td>0.207692</td>\n",
       "      <td>132.409499</td>\n",
       "      <td>244.326923</td>\n",
       "      <td>0.217949</td>\n",
       "      <td>137.419231</td>\n",
       "      <td>0.397436</td>\n",
       "      <td>0.908846</td>\n",
       "      <td>0.552564</td>\n",
       "      <td>0.541026</td>\n",
       "      <td>0.184615</td>\n",
       "      <td>0.223077</td>\n",
       "      <td>0.051282</td>\n",
       "      <td>0.206410</td>\n",
       "      <td>0.605128</td>\n",
       "      <td>0.188462</td>\n",
       "      <td>0.067949</td>\n",
       "      <td>0.494872</td>\n",
       "      <td>0.437179</td>\n",
       "      <td>82.406603</td>\n",
       "    </tr>\n",
       "    <tr>\n",
       "      <th>std</th>\n",
       "      <td>9.481147</td>\n",
       "      <td>0.405916</td>\n",
       "      <td>17.854294</td>\n",
       "      <td>61.688247</td>\n",
       "      <td>0.413117</td>\n",
       "      <td>25.157984</td>\n",
       "      <td>0.489682</td>\n",
       "      <td>1.088102</td>\n",
       "      <td>0.497548</td>\n",
       "      <td>0.498634</td>\n",
       "      <td>0.388234</td>\n",
       "      <td>0.416577</td>\n",
       "      <td>0.220714</td>\n",
       "      <td>0.404988</td>\n",
       "      <td>0.489137</td>\n",
       "      <td>0.391331</td>\n",
       "      <td>0.251819</td>\n",
       "      <td>0.500295</td>\n",
       "      <td>0.496356</td>\n",
       "      <td>14.096041</td>\n",
       "    </tr>\n",
       "    <tr>\n",
       "      <th>min</th>\n",
       "      <td>28.000000</td>\n",
       "      <td>0.000000</td>\n",
       "      <td>80.000000</td>\n",
       "      <td>85.000000</td>\n",
       "      <td>0.000000</td>\n",
       "      <td>60.000000</td>\n",
       "      <td>0.000000</td>\n",
       "      <td>-2.600000</td>\n",
       "      <td>0.000000</td>\n",
       "      <td>0.000000</td>\n",
       "      <td>0.000000</td>\n",
       "      <td>0.000000</td>\n",
       "      <td>0.000000</td>\n",
       "      <td>0.000000</td>\n",
       "      <td>0.000000</td>\n",
       "      <td>0.000000</td>\n",
       "      <td>0.000000</td>\n",
       "      <td>0.000000</td>\n",
       "      <td>0.000000</td>\n",
       "      <td>35.502959</td>\n",
       "    </tr>\n",
       "    <tr>\n",
       "      <th>25%</th>\n",
       "      <td>46.000000</td>\n",
       "      <td>0.000000</td>\n",
       "      <td>120.000000</td>\n",
       "      <td>206.750000</td>\n",
       "      <td>0.000000</td>\n",
       "      <td>120.000000</td>\n",
       "      <td>0.000000</td>\n",
       "      <td>0.000000</td>\n",
       "      <td>0.000000</td>\n",
       "      <td>0.000000</td>\n",
       "      <td>0.000000</td>\n",
       "      <td>0.000000</td>\n",
       "      <td>0.000000</td>\n",
       "      <td>0.000000</td>\n",
       "      <td>0.000000</td>\n",
       "      <td>0.000000</td>\n",
       "      <td>0.000000</td>\n",
       "      <td>0.000000</td>\n",
       "      <td>0.000000</td>\n",
       "      <td>72.604530</td>\n",
       "    </tr>\n",
       "    <tr>\n",
       "      <th>50%</th>\n",
       "      <td>54.000000</td>\n",
       "      <td>0.000000</td>\n",
       "      <td>130.000000</td>\n",
       "      <td>236.000000</td>\n",
       "      <td>0.000000</td>\n",
       "      <td>139.000000</td>\n",
       "      <td>0.000000</td>\n",
       "      <td>0.600000</td>\n",
       "      <td>1.000000</td>\n",
       "      <td>1.000000</td>\n",
       "      <td>0.000000</td>\n",
       "      <td>0.000000</td>\n",
       "      <td>0.000000</td>\n",
       "      <td>0.000000</td>\n",
       "      <td>1.000000</td>\n",
       "      <td>0.000000</td>\n",
       "      <td>0.000000</td>\n",
       "      <td>0.000000</td>\n",
       "      <td>0.000000</td>\n",
       "      <td>82.680831</td>\n",
       "    </tr>\n",
       "    <tr>\n",
       "      <th>75%</th>\n",
       "      <td>60.000000</td>\n",
       "      <td>0.000000</td>\n",
       "      <td>140.000000</td>\n",
       "      <td>274.000000</td>\n",
       "      <td>0.000000</td>\n",
       "      <td>157.000000</td>\n",
       "      <td>1.000000</td>\n",
       "      <td>1.525000</td>\n",
       "      <td>1.000000</td>\n",
       "      <td>1.000000</td>\n",
       "      <td>0.000000</td>\n",
       "      <td>0.000000</td>\n",
       "      <td>0.000000</td>\n",
       "      <td>0.000000</td>\n",
       "      <td>1.000000</td>\n",
       "      <td>0.000000</td>\n",
       "      <td>0.000000</td>\n",
       "      <td>1.000000</td>\n",
       "      <td>1.000000</td>\n",
       "      <td>93.534156</td>\n",
       "    </tr>\n",
       "    <tr>\n",
       "      <th>max</th>\n",
       "      <td>77.000000</td>\n",
       "      <td>1.000000</td>\n",
       "      <td>200.000000</td>\n",
       "      <td>603.000000</td>\n",
       "      <td>1.000000</td>\n",
       "      <td>202.000000</td>\n",
       "      <td>1.000000</td>\n",
       "      <td>6.200000</td>\n",
       "      <td>1.000000</td>\n",
       "      <td>1.000000</td>\n",
       "      <td>1.000000</td>\n",
       "      <td>1.000000</td>\n",
       "      <td>1.000000</td>\n",
       "      <td>1.000000</td>\n",
       "      <td>1.000000</td>\n",
       "      <td>1.000000</td>\n",
       "      <td>1.000000</td>\n",
       "      <td>1.000000</td>\n",
       "      <td>1.000000</td>\n",
       "      <td>114.012739</td>\n",
       "    </tr>\n",
       "  </tbody>\n",
       "</table>\n",
       "</div>"
      ],
      "text/plain": [
       "              Age         Sex   RestingBP  Cholesterol   FastingBS  \\\n",
       "count  780.000000  780.000000  780.000000   780.000000  780.000000   \n",
       "mean    53.328205    0.207692  132.409499   244.326923    0.217949   \n",
       "std      9.481147    0.405916   17.854294    61.688247    0.413117   \n",
       "min     28.000000    0.000000   80.000000    85.000000    0.000000   \n",
       "25%     46.000000    0.000000  120.000000   206.750000    0.000000   \n",
       "50%     54.000000    0.000000  130.000000   236.000000    0.000000   \n",
       "75%     60.000000    0.000000  140.000000   274.000000    0.000000   \n",
       "max     77.000000    1.000000  200.000000   603.000000    1.000000   \n",
       "\n",
       "            MaxHR  ExerciseAngina     Oldpeak  HeartDisease     CPT_ASY  \\\n",
       "count  780.000000      780.000000  780.000000    780.000000  780.000000   \n",
       "mean   137.419231        0.397436    0.908846      0.552564    0.541026   \n",
       "std     25.157984        0.489682    1.088102      0.497548    0.498634   \n",
       "min     60.000000        0.000000   -2.600000      0.000000    0.000000   \n",
       "25%    120.000000        0.000000    0.000000      0.000000    0.000000   \n",
       "50%    139.000000        0.000000    0.600000      1.000000    1.000000   \n",
       "75%    157.000000        1.000000    1.525000      1.000000    1.000000   \n",
       "max    202.000000        1.000000    6.200000      1.000000    1.000000   \n",
       "\n",
       "          CPT_ATA     CPT_NAP      CPT_TA   R_ECG_LVH  R_ECG_Normal  \\\n",
       "count  780.000000  780.000000  780.000000  780.000000    780.000000   \n",
       "mean     0.184615    0.223077    0.051282    0.206410      0.605128   \n",
       "std      0.388234    0.416577    0.220714    0.404988      0.489137   \n",
       "min      0.000000    0.000000    0.000000    0.000000      0.000000   \n",
       "25%      0.000000    0.000000    0.000000    0.000000      0.000000   \n",
       "50%      0.000000    0.000000    0.000000    0.000000      1.000000   \n",
       "75%      0.000000    0.000000    0.000000    0.000000      1.000000   \n",
       "max      1.000000    1.000000    1.000000    1.000000      1.000000   \n",
       "\n",
       "         R_ECG_ST  ST_Slope_Down  ST_Slope_Flat  ST_Slope_Up  MaxHR_precent  \n",
       "count  780.000000     780.000000     780.000000   780.000000     780.000000  \n",
       "mean     0.188462       0.067949       0.494872     0.437179      82.406603  \n",
       "std      0.391331       0.251819       0.500295     0.496356      14.096041  \n",
       "min      0.000000       0.000000       0.000000     0.000000      35.502959  \n",
       "25%      0.000000       0.000000       0.000000     0.000000      72.604530  \n",
       "50%      0.000000       0.000000       0.000000     0.000000      82.680831  \n",
       "75%      0.000000       0.000000       1.000000     1.000000      93.534156  \n",
       "max      1.000000       1.000000       1.000000     1.000000     114.012739  "
      ]
     },
     "execution_count": 36,
     "metadata": {},
     "output_type": "execute_result"
    }
   ],
   "source": [
    "# Didn't improve accuracy - 0.86 vs. 0.86\n",
    "\n",
    "heart_disease[\"MaxHR_precent\"] = (heart_disease[\"MaxHR\"] / (220 - heart_disease[\"Age\"])) * 100\n",
    "continuous_features.append(\"MaxHR_precent\")\n",
    "heart_disease.describe()"
   ]
  },
  {
   "cell_type": "code",
   "execution_count": 37,
   "id": "718c5af6",
   "metadata": {},
   "outputs": [],
   "source": [
    "# heart_disease[\"ST_decrease_Level\"] = heart_disease[\"Oldpeak\"] * heart_disease[\"ST_Slope_Down\"]\n",
    "# heart_disease.describe()"
   ]
  },
  {
   "cell_type": "markdown",
   "id": "08484c9a",
   "metadata": {},
   "source": [
    "### Outliers:"
   ]
  },
  {
   "cell_type": "markdown",
   "id": "605b49e8",
   "metadata": {},
   "source": [
    "We would like to check now whether we have to remove outliers or not:"
   ]
  },
  {
   "cell_type": "code",
   "execution_count": 38,
   "id": "8a3edd85",
   "metadata": {},
   "outputs": [],
   "source": [
    "for feature in continuous_features: \n",
    "    heart_disease_no_outliers = remove_outliers(heart_disease, feature)"
   ]
  },
  {
   "cell_type": "code",
   "execution_count": 39,
   "id": "f7105d9c",
   "metadata": {},
   "outputs": [
    {
     "data": {
      "text/plain": [
       "(779, 20)"
      ]
     },
     "execution_count": 39,
     "metadata": {},
     "output_type": "execute_result"
    }
   ],
   "source": [
    "heart_disease_no_outliers.shape"
   ]
  },
  {
   "cell_type": "code",
   "execution_count": 40,
   "id": "2cdb3399",
   "metadata": {},
   "outputs": [
    {
     "data": {
      "text/plain": [
       "(780, 20)"
      ]
     },
     "execution_count": 40,
     "metadata": {},
     "output_type": "execute_result"
    }
   ],
   "source": [
    "heart_disease.shape"
   ]
  },
  {
   "cell_type": "code",
   "execution_count": 41,
   "id": "cd499020",
   "metadata": {},
   "outputs": [],
   "source": [
    "X_w_outliers = heart_disease.drop([\"HeartDisease\"], axis=1)\n",
    "y_w_outliers = heart_disease[\"HeartDisease\"]\n",
    "\n",
    "X_no_outliers = heart_disease_no_outliers.drop([\"HeartDisease\"], axis=1)\n",
    "y_no_outliers = heart_disease_no_outliers[\"HeartDisease\"]"
   ]
  },
  {
   "cell_type": "code",
   "execution_count": 42,
   "id": "4b46e379",
   "metadata": {
    "scrolled": true
   },
   "outputs": [
    {
     "data": {
      "text/html": [
       "<div>\n",
       "<style scoped>\n",
       "    .dataframe tbody tr th:only-of-type {\n",
       "        vertical-align: middle;\n",
       "    }\n",
       "\n",
       "    .dataframe tbody tr th {\n",
       "        vertical-align: top;\n",
       "    }\n",
       "\n",
       "    .dataframe thead th {\n",
       "        text-align: right;\n",
       "    }\n",
       "</style>\n",
       "<table border=\"1\" class=\"dataframe\">\n",
       "  <thead>\n",
       "    <tr style=\"text-align: right;\">\n",
       "      <th></th>\n",
       "      <th>train_score</th>\n",
       "      <th>cv_score</th>\n",
       "    </tr>\n",
       "  </thead>\n",
       "  <tbody>\n",
       "    <tr>\n",
       "      <th>X_w_outliers</th>\n",
       "      <td>0.869231</td>\n",
       "      <td>0.862821</td>\n",
       "    </tr>\n",
       "    <tr>\n",
       "      <th>X_no_outliers</th>\n",
       "      <td>0.869705</td>\n",
       "      <td>0.862647</td>\n",
       "    </tr>\n",
       "  </tbody>\n",
       "</table>\n",
       "</div>"
      ],
      "text/plain": [
       "               train_score  cv_score\n",
       "X_w_outliers      0.869231  0.862821\n",
       "X_no_outliers     0.869705  0.862647"
      ]
     },
     "execution_count": 42,
     "metadata": {},
     "output_type": "execute_result"
    }
   ],
   "source": [
    "# Prepare arguments for 'compare' function\n",
    "X_datasets = [X_w_outliers, X_no_outliers]\n",
    "datasets_str = ['X_w_outliers', 'X_no_outliers']\n",
    "y_datasets = [y_w_outliers, y_no_outliers]\n",
    "\n",
    "# Function described in 'Auxiliary_functions' file\n",
    "compare(X_datasets, datasets_str, y_datasets)"
   ]
  },
  {
   "cell_type": "code",
   "execution_count": 43,
   "id": "3b4e1600",
   "metadata": {},
   "outputs": [],
   "source": [
    "X_train = X_w_outliers\n",
    "y_train = y_w_outliers"
   ]
  },
  {
   "cell_type": "markdown",
   "id": "41ab2bb4",
   "metadata": {},
   "source": [
    "### Feature Selection:"
   ]
  },
  {
   "cell_type": "code",
   "execution_count": 44,
   "id": "4615b68c",
   "metadata": {},
   "outputs": [
    {
     "name": "stdout",
     "output_type": "stream",
     "text": [
      "Features selected for model are: ['Sex', 'RestingBP', 'Cholesterol', 'FastingBS', 'MaxHR', 'ExerciseAngina', 'Oldpeak', 'CPT_ASY', 'CPT_ATA', 'CPT_NAP', 'R_ECG_LVH', 'ST_Slope_Flat', 'ST_Slope_Up', 'MaxHR_precent']\n"
     ]
    }
   ],
   "source": [
    "feature_sel_LR = LogisticRegression()\n",
    "SFS = sfs(feature_sel_LR, n_features_to_select=14, direction='backward', scoring='accuracy', n_jobs=-1)\n",
    "SFS = SFS.fit(X_train, y_train)\n",
    "\n",
    "mask = SFS.get_support()\n",
    "new_features = list(X_train.columns[mask])\n",
    "print(f\"Features selected for model are: {new_features}\")"
   ]
  },
  {
   "cell_type": "code",
   "execution_count": 45,
   "id": "9d06f46d",
   "metadata": {},
   "outputs": [],
   "source": [
    "X_train_FS = SFS.transform(X_train)"
   ]
  },
  {
   "cell_type": "code",
   "execution_count": 46,
   "id": "9a5d4880",
   "metadata": {},
   "outputs": [
    {
     "data": {
      "text/html": [
       "<div>\n",
       "<style scoped>\n",
       "    .dataframe tbody tr th:only-of-type {\n",
       "        vertical-align: middle;\n",
       "    }\n",
       "\n",
       "    .dataframe tbody tr th {\n",
       "        vertical-align: top;\n",
       "    }\n",
       "\n",
       "    .dataframe thead th {\n",
       "        text-align: right;\n",
       "    }\n",
       "</style>\n",
       "<table border=\"1\" class=\"dataframe\">\n",
       "  <thead>\n",
       "    <tr style=\"text-align: right;\">\n",
       "      <th></th>\n",
       "      <th>train_score</th>\n",
       "      <th>cv_score</th>\n",
       "    </tr>\n",
       "  </thead>\n",
       "  <tbody>\n",
       "    <tr>\n",
       "      <th>X_train</th>\n",
       "      <td>0.869231</td>\n",
       "      <td>0.862821</td>\n",
       "    </tr>\n",
       "    <tr>\n",
       "      <th>X_train_FS</th>\n",
       "      <td>0.869872</td>\n",
       "      <td>0.867949</td>\n",
       "    </tr>\n",
       "  </tbody>\n",
       "</table>\n",
       "</div>"
      ],
      "text/plain": [
       "            train_score  cv_score\n",
       "X_train        0.869231  0.862821\n",
       "X_train_FS     0.869872  0.867949"
      ]
     },
     "execution_count": 46,
     "metadata": {},
     "output_type": "execute_result"
    }
   ],
   "source": [
    "# Prepare arguments for 'compare' function\n",
    "X_datasets = [X_train, X_train_FS]\n",
    "datasets_str = ['X_train', 'X_train_FS']\n",
    "y_datasets = [y_train, y_train]\n",
    "\n",
    "# Function described in 'Auxiliary_functions' file\n",
    "compare(X_datasets, datasets_str, y_datasets)"
   ]
  },
  {
   "cell_type": "code",
   "execution_count": 47,
   "id": "c43d7c12",
   "metadata": {},
   "outputs": [],
   "source": [
    "X_train = X_train_FS"
   ]
  },
  {
   "cell_type": "markdown",
   "id": "f092c3e8",
   "metadata": {},
   "source": [
    "### Feature Scaling:"
   ]
  },
  {
   "cell_type": "code",
   "execution_count": 48,
   "id": "0cc27dc5",
   "metadata": {},
   "outputs": [],
   "source": [
    "from sklearn.preprocessing import MinMaxScaler\n",
    "from sklearn.preprocessing import StandardScaler\n",
    "\n",
    "normalization_scaler = MinMaxScaler()\n",
    "standartization_scaler = StandardScaler()\n",
    "\n",
    "X_Normalized = normalization_scaler.fit_transform(X_train)\n",
    "X_standartisized = standartization_scaler.fit_transform(X_train)"
   ]
  },
  {
   "cell_type": "code",
   "execution_count": 49,
   "id": "1f216982",
   "metadata": {},
   "outputs": [
    {
     "data": {
      "text/html": [
       "<div>\n",
       "<style scoped>\n",
       "    .dataframe tbody tr th:only-of-type {\n",
       "        vertical-align: middle;\n",
       "    }\n",
       "\n",
       "    .dataframe tbody tr th {\n",
       "        vertical-align: top;\n",
       "    }\n",
       "\n",
       "    .dataframe thead th {\n",
       "        text-align: right;\n",
       "    }\n",
       "</style>\n",
       "<table border=\"1\" class=\"dataframe\">\n",
       "  <thead>\n",
       "    <tr style=\"text-align: right;\">\n",
       "      <th></th>\n",
       "      <th>train_score</th>\n",
       "      <th>cv_score</th>\n",
       "    </tr>\n",
       "  </thead>\n",
       "  <tbody>\n",
       "    <tr>\n",
       "      <th>X_Normalized</th>\n",
       "      <td>0.870513</td>\n",
       "      <td>0.867949</td>\n",
       "    </tr>\n",
       "    <tr>\n",
       "      <th>X_standartisized</th>\n",
       "      <td>0.869231</td>\n",
       "      <td>0.864103</td>\n",
       "    </tr>\n",
       "  </tbody>\n",
       "</table>\n",
       "</div>"
      ],
      "text/plain": [
       "                  train_score  cv_score\n",
       "X_Normalized         0.870513  0.867949\n",
       "X_standartisized     0.869231  0.864103"
      ]
     },
     "execution_count": 49,
     "metadata": {},
     "output_type": "execute_result"
    }
   ],
   "source": [
    "# Prepare arguments for 'compare' function\n",
    "X_datasets = [X_Normalized, X_standartisized]\n",
    "datasets_str = ['X_Normalized', 'X_standartisized']\n",
    "y_datasets = [y_train, y_train]\n",
    "\n",
    "# Function described in 'Auxiliary_functions' file\n",
    "compare(X_datasets, datasets_str, y_datasets)"
   ]
  },
  {
   "cell_type": "code",
   "execution_count": 50,
   "id": "71202411",
   "metadata": {},
   "outputs": [],
   "source": [
    "X_train = X_Normalized"
   ]
  },
  {
   "cell_type": "markdown",
   "id": "7e1a6457",
   "metadata": {},
   "source": [
    "### Prepare test set:"
   ]
  },
  {
   "cell_type": "code",
   "execution_count": 51,
   "id": "42b83fd3",
   "metadata": {},
   "outputs": [],
   "source": [
    "test_set= pd.concat([X_test, pd.DataFrame(y_test)], axis=1)\n",
    "test_set[cols] = test_set[cols].replace({0:np.nan})\n",
    "test_set = test_set.replace(cat_to_num)\n",
    "test_set = pd.get_dummies(test_set, columns=[\"ChestPainType\", \"RestingECG\", \"ST_Slope\"], prefix=[\"CPT\", \"R_ECG\", \"ST_Slope\"])\n",
    "\n",
    "# test_set = test_set.dropna(axis=1)\n",
    "\n",
    "col = test_set.columns\n",
    "test_set = knn_imputer.transform(test_set)\n",
    "test_set = pd.DataFrame(test_set, columns=col)\n",
    "\n",
    "test_set[\"MaxHR_precent\"] = (test_set[\"MaxHR\"] / (220 - test_set[\"Age\"])) * 100\n",
    "\n",
    "X_test = test_set.drop([\"HeartDisease\"], axis=1)\n",
    "y_test = test_set[\"HeartDisease\"]\n",
    "X_test = SFS.transform(X_test)\n",
    "X_test_FS = X_test\n",
    "X_test = normalization_scaler.transform(X_test)"
   ]
  },
  {
   "cell_type": "markdown",
   "id": "05ffce9f",
   "metadata": {},
   "source": [
    "## 4. <u>Modeling</u>:"
   ]
  },
  {
   "cell_type": "markdown",
   "id": "f9d57b83",
   "metadata": {},
   "source": [
    "### Implementation of Logistic Regression (LR):"
   ]
  },
  {
   "cell_type": "code",
   "execution_count": 52,
   "id": "556fd038",
   "metadata": {},
   "outputs": [],
   "source": [
    "l1_ratio = np.linspace(0, 1, 20)\n",
    "C = np.logspace(0, 10, 20)\n",
    "param_grid = (\n",
    "             {\"penalty\" : [\"elasticnet\"], \"l1_ratio\" : l1_ratio, \"C\" : C},\n",
    "             {\"penalty\" : [\"l1\", \"l2\"], \"C\" : C},\n",
    "             )\n",
    "             \n",
    "model_LR = LogisticRegression(max_iter=3000, solver='saga', n_jobs=-1, random_state=123)\n",
    "model_LR = GridSearchCV(model_LR, param_grid = param_grid, scoring='recall', n_jobs=-1)\n",
    "model_LR.fit(X_train, y_train)\n",
    "predictions_LR = model_LR.predict(X_test)"
   ]
  },
  {
   "cell_type": "markdown",
   "id": "1eafc3b8",
   "metadata": {},
   "source": [
    "### Implementation of Support Vector Machine (SVM):"
   ]
  },
  {
   "cell_type": "code",
   "execution_count": 53,
   "id": "02e3e195",
   "metadata": {},
   "outputs": [],
   "source": [
    "param_grid = {'C': [0.1,1, 10, 100],\n",
    "              'gamma': [\"scale\", \"auto\", 1,0.1,0.01,0.001],\n",
    "              'kernel': ['rbf', 'linear']}\n",
    "             \n",
    "model_SVM = SVC()\n",
    "model_SVM = GridSearchCV(model_SVM, param_grid = param_grid, scoring='recall', n_jobs=-1)\n",
    "model_SVM.fit(X_train, y_train)\n",
    "predictions_SVM = model_LR.predict(X_test)"
   ]
  },
  {
   "cell_type": "markdown",
   "id": "1da86664",
   "metadata": {},
   "source": [
    "### Implementation of k-Nearest Neighbors (kNN):"
   ]
  },
  {
   "cell_type": "code",
   "execution_count": 54,
   "id": "f4ecec49",
   "metadata": {},
   "outputs": [],
   "source": [
    "model_knn = KNeighborsClassifier()\n",
    "param_grid = {\"n_neighbors\": np.arange(1,50,2)}\n",
    "model_knn = GridSearchCV(model_knn, param_grid, scoring='recall')\n",
    "model_knn.fit(X_train, y_train)\n",
    "\n",
    "predictions_knn = model_knn.predict(X_test)"
   ]
  },
  {
   "cell_type": "markdown",
   "id": "876f9511",
   "metadata": {},
   "source": [
    "### Implementation of Random Forest (RF):"
   ]
  },
  {
   "cell_type": "code",
   "execution_count": 64,
   "id": "32b47809",
   "metadata": {},
   "outputs": [],
   "source": [
    "param_grid = {'n_estimators':[15, 25, 50, 75],\n",
    "             'max_features':[2, 3],\n",
    "             'max_depth':[2, 3],\n",
    "             'min_samples_split':[2, 5, 8, 10]}\n",
    "\n",
    "model_RF= RandomForestClassifier(random_state = 0)\n",
    "model_RF = GridSearchCV(model_RF, param_grid=param_grid, scoring = \"recall\", n_jobs = -1)\n",
    "model_RF.fit(X_train_FS, y_train)  \n",
    "predictions_RF = model_RF.predict(X_test_FS)"
   ]
  },
  {
   "cell_type": "markdown",
   "id": "913af262",
   "metadata": {},
   "source": [
    "## 4. <u>Evaluation</u>:"
   ]
  },
  {
   "cell_type": "markdown",
   "id": "77564e98",
   "metadata": {},
   "source": [
    "#### Evaluation metrics for logistic regression:"
   ]
  },
  {
   "cell_type": "code",
   "execution_count": 56,
   "id": "160b156a",
   "metadata": {},
   "outputs": [
    {
     "name": "stdout",
     "output_type": "stream",
     "text": [
      "\u001b[1mBest parameters found: \u001b[0m {'C': 1.0, 'l1_ratio': 0.8421052631578947, 'penalty': 'elasticnet'}\n",
      "\u001b[1mBest estimator found: \u001b[0m LogisticRegression(l1_ratio=0.8421052631578947, max_iter=3000, n_jobs=-1,\n",
      "                   penalty='elasticnet', random_state=123, solver='saga')\n",
      "\u001b[1mBest CV score found: \u001b[0m 0.8979149959903768\n",
      "\u001b[1mTest score: \u001b[0m 0.855072463768116\n",
      "              precision    recall  f1-score   support\n",
      "\n",
      "    target 0       0.87      0.79      0.83        61\n",
      "    target 1       0.84      0.91      0.88        77\n",
      "\n",
      "    accuracy                           0.86       138\n",
      "   macro avg       0.86      0.85      0.85       138\n",
      "weighted avg       0.86      0.86      0.85       138\n",
      "\n",
      "\u001b[1mConfusion matrix:\u001b[0m\n",
      "          Predicted 0  Predicted 1\n",
      "Actual 0           48           13\n",
      "Actual 1            7           70\n"
     ]
    }
   ],
   "source": [
    "model_evaluation(model_LR, X_train, predictions_LR, y_test)"
   ]
  },
  {
   "cell_type": "markdown",
   "id": "31414018",
   "metadata": {},
   "source": [
    "#### Evaluation metrics for support vector machine:"
   ]
  },
  {
   "cell_type": "code",
   "execution_count": 57,
   "id": "eb6c0fdb",
   "metadata": {},
   "outputs": [
    {
     "name": "stdout",
     "output_type": "stream",
     "text": [
      "\u001b[1mBest parameters found: \u001b[0m {'C': 0.1, 'gamma': 0.001, 'kernel': 'rbf'}\n",
      "\u001b[1mBest estimator found: \u001b[0m SVC(C=0.1, gamma=0.001)\n",
      "\u001b[1mBest CV score found: \u001b[0m 1.0\n",
      "\u001b[1mTest score: \u001b[0m 0.855072463768116\n",
      "              precision    recall  f1-score   support\n",
      "\n",
      "    target 0       0.87      0.79      0.83        61\n",
      "    target 1       0.84      0.91      0.88        77\n",
      "\n",
      "    accuracy                           0.86       138\n",
      "   macro avg       0.86      0.85      0.85       138\n",
      "weighted avg       0.86      0.86      0.85       138\n",
      "\n",
      "\u001b[1mConfusion matrix:\u001b[0m\n",
      "          Predicted 0  Predicted 1\n",
      "Actual 0           48           13\n",
      "Actual 1            7           70\n"
     ]
    }
   ],
   "source": [
    "model_evaluation(model_SVM, X_train, predictions_SVM, y_test)"
   ]
  },
  {
   "cell_type": "markdown",
   "id": "5d12d187",
   "metadata": {},
   "source": [
    "#### Evaluation metrics for k-nearest neighbors:"
   ]
  },
  {
   "cell_type": "code",
   "execution_count": 58,
   "id": "44b9794a",
   "metadata": {},
   "outputs": [
    {
     "name": "stdout",
     "output_type": "stream",
     "text": [
      "\u001b[1mBest parameters found: \u001b[0m {'n_neighbors': 19}\n",
      "\u001b[1mBest estimator found: \u001b[0m KNeighborsClassifier(n_neighbors=19)\n",
      "\u001b[1mBest CV score found: \u001b[0m 0.9094627105052124\n",
      "\u001b[1mTest score: \u001b[0m 0.8623188405797102\n",
      "              precision    recall  f1-score   support\n",
      "\n",
      "    target 0       0.90      0.77      0.83        61\n",
      "    target 1       0.84      0.94      0.88        77\n",
      "\n",
      "    accuracy                           0.86       138\n",
      "   macro avg       0.87      0.85      0.86       138\n",
      "weighted avg       0.87      0.86      0.86       138\n",
      "\n",
      "\u001b[1mConfusion matrix:\u001b[0m\n",
      "          Predicted 0  Predicted 1\n",
      "Actual 0           47           14\n",
      "Actual 1            5           72\n"
     ]
    }
   ],
   "source": [
    "model_evaluation(model_knn, X_train, predictions_knn, y_test)"
   ]
  },
  {
   "cell_type": "markdown",
   "id": "496e7ff4",
   "metadata": {},
   "source": [
    "#### Evaluation metrics for random forest:"
   ]
  },
  {
   "cell_type": "code",
   "execution_count": 65,
   "id": "e77b6840",
   "metadata": {},
   "outputs": [
    {
     "name": "stdout",
     "output_type": "stream",
     "text": [
      "\u001b[1mBest parameters found: \u001b[0m {'max_depth': 3, 'max_features': 2, 'min_samples_split': 2, 'n_estimators': 25}\n",
      "\u001b[1mBest estimator found: \u001b[0m RandomForestClassifier(max_depth=3, max_features=2, n_estimators=25,\n",
      "                       random_state=0)\n",
      "\u001b[1mBest CV score found: \u001b[0m 0.8955092221331196\n",
      "\u001b[1mTest score: \u001b[0m 0.8623188405797102\n",
      "              precision    recall  f1-score   support\n",
      "\n",
      "    target 0       0.90      0.77      0.83        61\n",
      "    target 1       0.84      0.94      0.88        77\n",
      "\n",
      "    accuracy                           0.86       138\n",
      "   macro avg       0.87      0.85      0.86       138\n",
      "weighted avg       0.87      0.86      0.86       138\n",
      "\n",
      "\u001b[1mConfusion matrix:\u001b[0m\n",
      "          Predicted 0  Predicted 1\n",
      "Actual 0           47           14\n",
      "Actual 1            5           72\n"
     ]
    }
   ],
   "source": [
    "model_evaluation(model_RF, X_train_FS, predictions_RF, y_test)"
   ]
  },
  {
   "cell_type": "code",
   "execution_count": 66,
   "id": "b220dbe4",
   "metadata": {},
   "outputs": [],
   "source": [
    "# from sklearn import tree\n",
    "\n",
    "# model_tree = model_RF.best_estimator_\n",
    "# model_tree.fit(X_train_FS, y_train)  \n",
    "\n",
    "# for i in range(len(model_tree.estimators_)):\n",
    "#     plt.figure(figsize=(15,15))\n",
    "#     _ = tree.plot_tree(model_tree.estimators_[i], feature_names=new_features, class_names=True, filled=True)"
   ]
  }
 ],
 "metadata": {
  "kernelspec": {
   "display_name": "Python 3 (ipykernel)",
   "language": "python",
   "name": "python3"
  },
  "language_info": {
   "codemirror_mode": {
    "name": "ipython",
    "version": 3
   },
   "file_extension": ".py",
   "mimetype": "text/x-python",
   "name": "python",
   "nbconvert_exporter": "python",
   "pygments_lexer": "ipython3",
   "version": "3.10.2"
  }
 },
 "nbformat": 4,
 "nbformat_minor": 5
}
