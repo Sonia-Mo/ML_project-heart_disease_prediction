{
 "cells": [
  {
   "cell_type": "code",
   "execution_count": 2,
   "id": "97ca8429",
   "metadata": {},
   "outputs": [],
   "source": [
    "def compare(X_datasets, datasets_str, y_datasets):\n",
    "    \"\"\"\n",
    "    Compare the performance of different operations on the dataset.\n",
    "\n",
    "    Params: \n",
    "            X_datasets - Array with all the X sets that are the result of an action performed on X_train.\n",
    "            datasets_str - Array with all the names of action performed on X_train.\n",
    "            y_datasets - Array with all the corresponding y sets.\n",
    "    \n",
    "    Output: A table containing the training and cross validation scores for the various actions performed.\n",
    "    \"\"\"\n",
    "    train_score = []\n",
    "    cv_score = []\n",
    "    num_sets = len(X_datasets)\n",
    "    \n",
    "    for i in range(num_sets):\n",
    "        # Fit logistic regression model on the current dataset\n",
    "        model_LR = LogisticRegression(max_iter=3000)\n",
    "        model_LR.fit(X_datasets[i], y_datasets[i])\n",
    "        cv_model_LR = cross_validate(model_LR, X_datasets[i], y_datasets[i], scoring='accuracy', n_jobs=-1, \\\n",
    "                                     return_train_score=True)\n",
    "\n",
    "        train_score.append(cv_model_LR['train_score'].mean())\n",
    "        cv_score.append(cv_model_LR['test_score'].mean())\n",
    "\n",
    "    # Give names to columns and rows\n",
    "    train_score = pd.DataFrame(train_score, columns=['train_score'])\n",
    "    cv_score = pd.DataFrame(cv_score, columns=['cv_score'])\n",
    "    scores = pd.concat([train_score, cv_score], axis=1)\n",
    "    scores.index = datasets_str\n",
    "    \n",
    "    return scores"
   ]
  },
  {
   "cell_type": "code",
   "execution_count": 4,
   "id": "79b79f3d",
   "metadata": {},
   "outputs": [],
   "source": [
    "from scipy import stats\n",
    "from scipy.stats import zscore\n",
    "\n",
    "def remove_outliers(dataset, feature):\n",
    "    \"\"\"\n",
    "    Discover outliers for 'feature' is 'dataset' using Z-score. If the Z-score value is greater than or less than\n",
    "    3 or -3 respectively, that data point will be identified as outlier.\n",
    "    \n",
    "    Params: \n",
    "            dataset - DataFrame that contains the data set.\n",
    "            feature - The name of the current feature for which we would like to look for outliers.\n",
    "    \n",
    "    Output: DataFrame that contains samples from 'dataset' that are not found to be outliers for 'feature'.\n",
    "    \"\"\"\n",
    "    z_scores = stats.zscore(dataset[feature])\n",
    "    abs_z_scores = np.abs(z_scores)\n",
    "    filtered_entries = (abs_z_scores < 3)\n",
    "    \n",
    "    return dataset[filtered_entries]"
   ]
  },
  {
   "cell_type": "code",
   "execution_count": null,
   "id": "19e2dfb9",
   "metadata": {},
   "outputs": [],
   "source": [
    "def show_outliers(dataset, feature):\n",
    "    \"\"\"\n",
    "    Return the samples that are considered as outliers for 'feature' in 'dataset' using Z-score.\n",
    "    \n",
    "    Params: \n",
    "            dataset - DataFrame that contains the data set.\n",
    "            feature - The name of the current feature for which we would like to look for outliers.\n",
    "    \n",
    "    Output: DataFrame that contains samples from 'dataset' that are found to be outliers for 'feature'.\n",
    "    \"\"\"    \n",
    "    z_scores = stats.zscore(dataset[feature])\n",
    "    abs_z_scores = np.abs(z_scores)\n",
    "    filtered_entries = (abs_z_scores >= 3)\n",
    "    \n",
    "    return dataset[filtered_entries]"
   ]
  },
  {
   "cell_type": "code",
   "execution_count": 2,
   "id": "9574a3f7",
   "metadata": {},
   "outputs": [],
   "source": [
    "def model_evaluation(model):\n",
    "    \"\"\"\n",
    "    Print the best estimator found for 'model' during GridSearchCV and the corresponding\n",
    "    training and cross-validation scores.\n",
    "    \"\"\"\n",
    "    print(f\"\\033[1mBest parameters found: \\033[0m {model.best_params_}\")\n",
    "    print(f\"\\033[1mBest estimator found: \\033[0m {model.best_estimator_}\")\n",
    "    print(f\"\\033[1mBest CV score found: \\033[0m {model.best_score_}\")\n",
    "    index = model.best_index_\n",
    "    print(f\"\\033[1mCorresponding training set score: \\033[0m {model.cv_results_['mean_train_score'][index]}\")"
   ]
  },
  {
   "cell_type": "code",
   "execution_count": null,
   "id": "85b2484a",
   "metadata": {},
   "outputs": [],
   "source": [
    "def test_results(predictions, y_test):\n",
    "    \"\"\"\n",
    "    Print evaluation metrics for test set.\n",
    "    \"\"\"\n",
    "    print(f\"\\n\\033[1mTest accuracy score: \\033[0m {accuracy_score(y_test, predictions)}\")\n",
    "    \n",
    "    print(classification_report(y_test, predictions, target_names=['target 0', 'target 1']))\n",
    "    conf_mat = pd.DataFrame(confusion_matrix(y_test, predictions))\n",
    "    conf_mat.index = ['Actual 0', 'Actual 1']\n",
    "    conf_mat.columns = ['Predicted 0', 'Predicted 1']\n",
    "    print(\"\\033[1mConfusion matrix:\\033[0m\")\n",
    "    print(conf_mat)"
   ]
  }
 ],
 "metadata": {
  "kernelspec": {
   "display_name": "Python 3 (ipykernel)",
   "language": "python",
   "name": "python3"
  },
  "language_info": {
   "codemirror_mode": {
    "name": "ipython",
    "version": 3
   },
   "file_extension": ".py",
   "mimetype": "text/x-python",
   "name": "python",
   "nbconvert_exporter": "python",
   "pygments_lexer": "ipython3",
   "version": "3.10.4"
  }
 },
 "nbformat": 4,
 "nbformat_minor": 5
}
