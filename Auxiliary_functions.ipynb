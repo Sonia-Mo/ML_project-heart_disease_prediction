{
 "cells": [
  {
   "cell_type": "code",
   "execution_count": 1,
   "id": "97ca8429",
   "metadata": {},
   "outputs": [],
   "source": [
    "def compare(X_datasets, datasets_str, y_datasets):\n",
    "    train_score = []\n",
    "    cv_score = []\n",
    "    for i in range(len(X_datasets)):\n",
    "        model_LR = LogisticRegression(max_iter = 3000)\n",
    "        model_LR.fit(X_datasets[i], y_datasets[i])\n",
    "\n",
    "        cv_model_LR = cross_validate(model_LR, X_datasets[i], y_datasets[i], scoring = 'accuracy', return_train_score=True)\n",
    "\n",
    "        train_score.append(cv_model_LR['train_score'].mean())\n",
    "        cv_score.append(cv_model_LR['test_score'].mean())\n",
    "\n",
    "    train_score = pd.DataFrame(train_score, columns=['train_score'])\n",
    "    cv_score = pd.DataFrame(cv_score, columns=['cv_score'])\n",
    "\n",
    "    scores = pd.concat([train_score, cv_score], axis=1)\n",
    "    scores.index = datasets_str\n",
    "    return scores"
   ]
  },
  {
   "cell_type": "code",
   "execution_count": 4,
   "id": "79b79f3d",
   "metadata": {},
   "outputs": [],
   "source": [
    "def remove_outliers(dataset, feature):\n",
    "    z_scores = stats.zscore(dataset[feature])\n",
    "    abs_z_scores = np.abs(z_scores)\n",
    "    filtered_entries = (abs_z_scores < 3)\n",
    "    \n",
    "    return dataset[filtered_entries]"
   ]
  },
  {
   "cell_type": "code",
   "execution_count": null,
   "id": "19e2dfb9",
   "metadata": {},
   "outputs": [],
   "source": [
    "def show_outliers(dataset, feature):\n",
    "    z_scores = stats.zscore(dataset[feature])\n",
    "    abs_z_scores = np.abs(z_scores)\n",
    "    filtered_entries = (abs_z_scores >= 3)\n",
    "    \n",
    "    return dataset[filtered_entries]"
   ]
  },
  {
   "cell_type": "code",
   "execution_count": 2,
   "id": "9574a3f7",
   "metadata": {},
   "outputs": [],
   "source": [
    "def model_evaluation(model):\n",
    "    print(f\"\\033[1mBest parameters found: \\033[0m {model.best_params_}\")\n",
    "    print(f\"\\033[1mBest estimator found: \\033[0m {model.best_estimator_}\")\n",
    "    print(f\"\\033[1mTrain set score: \\033[0m {model.cv_results_['mean_train_score'].mean()}\")\n",
    "    print(f\"\\033[1mBest CV score found: \\033[0m {model.best_score_}\")"
   ]
  },
  {
   "cell_type": "code",
   "execution_count": null,
   "id": "85b2484a",
   "metadata": {},
   "outputs": [],
   "source": [
    "def test_results(predictions, y_test):\n",
    "    print(f\"\\n\\033[1mTest accuracy score: \\033[0m {accuracy_score(y_test, predictions)}\")\n",
    "    \n",
    "    print(classification_report(y_test, predictions, target_names=['target 0', 'target 1']))\n",
    "    conf_mat = pd.DataFrame(confusion_matrix(y_test, predictions))\n",
    "    conf_mat.index = ['Actual 0', 'Actual 1']\n",
    "    conf_mat.columns = ['Predicted 0', 'Predicted 1']\n",
    "    print(\"\\033[1mConfusion matrix:\\033[0m\")\n",
    "    print(conf_mat)"
   ]
  }
 ],
 "metadata": {
  "kernelspec": {
   "display_name": "Python 3 (ipykernel)",
   "language": "python",
   "name": "python3"
  },
  "language_info": {
   "codemirror_mode": {
    "name": "ipython",
    "version": 3
   },
   "file_extension": ".py",
   "mimetype": "text/x-python",
   "name": "python",
   "nbconvert_exporter": "python",
   "pygments_lexer": "ipython3",
   "version": "3.10.4"
  }
 },
 "nbformat": 4,
 "nbformat_minor": 5
}
